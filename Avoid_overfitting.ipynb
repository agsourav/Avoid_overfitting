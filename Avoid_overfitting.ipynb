{
 "cells": [
  {
   "cell_type": "markdown",
   "metadata": {},
   "source": [
    "# Understanding classification and avoiding overfitting"
   ]
  },
  {
   "cell_type": "code",
   "execution_count": 1,
   "metadata": {},
   "outputs": [],
   "source": [
    "import os\n",
    "import pandas as pd\n",
    "PATH = '/home/sourav/Downloads/datasets'\n"
   ]
  },
  {
   "cell_type": "code",
   "execution_count": 2,
   "metadata": {},
   "outputs": [
    {
     "data": {
      "text/plain": [
       "['overfitting.csv',\n",
       " 'Testing_BelgiumTraffic',\n",
       " 'MNIST',\n",
       " '__results__.html',\n",
       " 'sales_data_sample.csv',\n",
       " 'database.sqlite',\n",
       " 'housingPrice_test.csv',\n",
       " 'Iris.csv',\n",
       " 'googleplaystore_user_reviews.csv',\n",
       " 'breastcancer.csv',\n",
       " 'or.csv',\n",
       " 'housingPrice_train.csv',\n",
       " 'xor.csv',\n",
       " 'Training_BelgiumTraffic',\n",
       " 'license.txt',\n",
       " 'medical_appointment.csv',\n",
       " 'housingPrice_sample_submission.csv',\n",
       " 'and.csv',\n",
       " 'mushrooms.csv',\n",
       " 'sentiment',\n",
       " 'googleplaystore.csv']"
      ]
     },
     "execution_count": 2,
     "metadata": {},
     "output_type": "execute_result"
    }
   ],
   "source": [
    "os.listdir(PATH)"
   ]
  },
  {
   "cell_type": "code",
   "execution_count": 3,
   "metadata": {},
   "outputs": [
    {
     "data": {
      "text/plain": [
       "(250, 302)"
      ]
     },
     "execution_count": 3,
     "metadata": {},
     "output_type": "execute_result"
    }
   ],
   "source": [
    "data = pd.read_csv(PATH+'/overfitting.csv')\n",
    "data.shape"
   ]
  },
  {
   "cell_type": "code",
   "execution_count": 4,
   "metadata": {},
   "outputs": [
    {
     "data": {
      "text/plain": [
       "Index(['id', 'target', '0', '1', '2', '3', '4', '5', '6', '7',\n",
       "       ...\n",
       "       '290', '291', '292', '293', '294', '295', '296', '297', '298', '299'],\n",
       "      dtype='object', length=302)"
      ]
     },
     "execution_count": 4,
     "metadata": {},
     "output_type": "execute_result"
    }
   ],
   "source": [
    "data.columns"
   ]
  },
  {
   "cell_type": "code",
   "execution_count": 5,
   "metadata": {},
   "outputs": [
    {
     "data": {
      "text/html": [
       "<div>\n",
       "<style scoped>\n",
       "    .dataframe tbody tr th:only-of-type {\n",
       "        vertical-align: middle;\n",
       "    }\n",
       "\n",
       "    .dataframe tbody tr th {\n",
       "        vertical-align: top;\n",
       "    }\n",
       "\n",
       "    .dataframe thead th {\n",
       "        text-align: right;\n",
       "    }\n",
       "</style>\n",
       "<table border=\"1\" class=\"dataframe\">\n",
       "  <thead>\n",
       "    <tr style=\"text-align: right;\">\n",
       "      <th></th>\n",
       "      <th>id</th>\n",
       "      <th>target</th>\n",
       "      <th>0</th>\n",
       "      <th>1</th>\n",
       "      <th>2</th>\n",
       "      <th>3</th>\n",
       "      <th>4</th>\n",
       "      <th>5</th>\n",
       "      <th>6</th>\n",
       "      <th>7</th>\n",
       "      <th>...</th>\n",
       "      <th>290</th>\n",
       "      <th>291</th>\n",
       "      <th>292</th>\n",
       "      <th>293</th>\n",
       "      <th>294</th>\n",
       "      <th>295</th>\n",
       "      <th>296</th>\n",
       "      <th>297</th>\n",
       "      <th>298</th>\n",
       "      <th>299</th>\n",
       "    </tr>\n",
       "  </thead>\n",
       "  <tbody>\n",
       "    <tr>\n",
       "      <th>count</th>\n",
       "      <td>250.000000</td>\n",
       "      <td>250.000000</td>\n",
       "      <td>250.000000</td>\n",
       "      <td>250.000000</td>\n",
       "      <td>250.000000</td>\n",
       "      <td>250.000000</td>\n",
       "      <td>250.000000</td>\n",
       "      <td>250.000000</td>\n",
       "      <td>250.000000</td>\n",
       "      <td>250.000000</td>\n",
       "      <td>...</td>\n",
       "      <td>250.000000</td>\n",
       "      <td>250.000000</td>\n",
       "      <td>250.000000</td>\n",
       "      <td>250.000000</td>\n",
       "      <td>250.000000</td>\n",
       "      <td>250.000000</td>\n",
       "      <td>250.000000</td>\n",
       "      <td>250.000000</td>\n",
       "      <td>250.000000</td>\n",
       "      <td>250.000000</td>\n",
       "    </tr>\n",
       "    <tr>\n",
       "      <th>mean</th>\n",
       "      <td>124.500000</td>\n",
       "      <td>0.640000</td>\n",
       "      <td>0.023292</td>\n",
       "      <td>-0.026872</td>\n",
       "      <td>0.167404</td>\n",
       "      <td>0.001904</td>\n",
       "      <td>0.001588</td>\n",
       "      <td>-0.007304</td>\n",
       "      <td>0.032052</td>\n",
       "      <td>0.078412</td>\n",
       "      <td>...</td>\n",
       "      <td>0.044652</td>\n",
       "      <td>0.126344</td>\n",
       "      <td>0.018436</td>\n",
       "      <td>-0.012092</td>\n",
       "      <td>-0.065720</td>\n",
       "      <td>-0.106112</td>\n",
       "      <td>0.046472</td>\n",
       "      <td>0.006452</td>\n",
       "      <td>0.009372</td>\n",
       "      <td>-0.128952</td>\n",
       "    </tr>\n",
       "    <tr>\n",
       "      <th>std</th>\n",
       "      <td>72.312977</td>\n",
       "      <td>0.480963</td>\n",
       "      <td>0.998354</td>\n",
       "      <td>1.009314</td>\n",
       "      <td>1.021709</td>\n",
       "      <td>1.011751</td>\n",
       "      <td>1.035411</td>\n",
       "      <td>0.955700</td>\n",
       "      <td>1.006657</td>\n",
       "      <td>0.939731</td>\n",
       "      <td>...</td>\n",
       "      <td>1.011416</td>\n",
       "      <td>0.972567</td>\n",
       "      <td>0.954229</td>\n",
       "      <td>0.960630</td>\n",
       "      <td>1.057414</td>\n",
       "      <td>1.038389</td>\n",
       "      <td>0.967661</td>\n",
       "      <td>0.998984</td>\n",
       "      <td>1.008099</td>\n",
       "      <td>0.971219</td>\n",
       "    </tr>\n",
       "    <tr>\n",
       "      <th>min</th>\n",
       "      <td>0.000000</td>\n",
       "      <td>0.000000</td>\n",
       "      <td>-2.319000</td>\n",
       "      <td>-2.931000</td>\n",
       "      <td>-2.477000</td>\n",
       "      <td>-2.359000</td>\n",
       "      <td>-2.566000</td>\n",
       "      <td>-2.845000</td>\n",
       "      <td>-2.976000</td>\n",
       "      <td>-3.444000</td>\n",
       "      <td>...</td>\n",
       "      <td>-2.804000</td>\n",
       "      <td>-2.443000</td>\n",
       "      <td>-2.757000</td>\n",
       "      <td>-2.466000</td>\n",
       "      <td>-3.287000</td>\n",
       "      <td>-3.072000</td>\n",
       "      <td>-2.634000</td>\n",
       "      <td>-2.776000</td>\n",
       "      <td>-3.211000</td>\n",
       "      <td>-3.500000</td>\n",
       "    </tr>\n",
       "    <tr>\n",
       "      <th>25%</th>\n",
       "      <td>62.250000</td>\n",
       "      <td>0.000000</td>\n",
       "      <td>-0.644750</td>\n",
       "      <td>-0.739750</td>\n",
       "      <td>-0.425250</td>\n",
       "      <td>-0.686500</td>\n",
       "      <td>-0.659000</td>\n",
       "      <td>-0.643750</td>\n",
       "      <td>-0.675000</td>\n",
       "      <td>-0.550750</td>\n",
       "      <td>...</td>\n",
       "      <td>-0.617000</td>\n",
       "      <td>-0.510500</td>\n",
       "      <td>-0.535750</td>\n",
       "      <td>-0.657000</td>\n",
       "      <td>-0.818500</td>\n",
       "      <td>-0.821000</td>\n",
       "      <td>-0.605500</td>\n",
       "      <td>-0.751250</td>\n",
       "      <td>-0.550000</td>\n",
       "      <td>-0.754250</td>\n",
       "    </tr>\n",
       "    <tr>\n",
       "      <th>50%</th>\n",
       "      <td>124.500000</td>\n",
       "      <td>1.000000</td>\n",
       "      <td>-0.015500</td>\n",
       "      <td>0.057000</td>\n",
       "      <td>0.184000</td>\n",
       "      <td>-0.016500</td>\n",
       "      <td>-0.023000</td>\n",
       "      <td>0.037500</td>\n",
       "      <td>0.060500</td>\n",
       "      <td>0.183500</td>\n",
       "      <td>...</td>\n",
       "      <td>0.067500</td>\n",
       "      <td>0.091000</td>\n",
       "      <td>0.057500</td>\n",
       "      <td>-0.021000</td>\n",
       "      <td>-0.009000</td>\n",
       "      <td>-0.079500</td>\n",
       "      <td>0.009500</td>\n",
       "      <td>0.005500</td>\n",
       "      <td>-0.009000</td>\n",
       "      <td>-0.132500</td>\n",
       "    </tr>\n",
       "    <tr>\n",
       "      <th>75%</th>\n",
       "      <td>186.750000</td>\n",
       "      <td>1.000000</td>\n",
       "      <td>0.677000</td>\n",
       "      <td>0.620750</td>\n",
       "      <td>0.805000</td>\n",
       "      <td>0.720000</td>\n",
       "      <td>0.735000</td>\n",
       "      <td>0.660500</td>\n",
       "      <td>0.783250</td>\n",
       "      <td>0.766250</td>\n",
       "      <td>...</td>\n",
       "      <td>0.797250</td>\n",
       "      <td>0.804250</td>\n",
       "      <td>0.631500</td>\n",
       "      <td>0.650250</td>\n",
       "      <td>0.739500</td>\n",
       "      <td>0.493000</td>\n",
       "      <td>0.683000</td>\n",
       "      <td>0.794250</td>\n",
       "      <td>0.654250</td>\n",
       "      <td>0.503250</td>\n",
       "    </tr>\n",
       "    <tr>\n",
       "      <th>max</th>\n",
       "      <td>249.000000</td>\n",
       "      <td>1.000000</td>\n",
       "      <td>2.567000</td>\n",
       "      <td>2.419000</td>\n",
       "      <td>3.392000</td>\n",
       "      <td>2.771000</td>\n",
       "      <td>2.901000</td>\n",
       "      <td>2.793000</td>\n",
       "      <td>2.546000</td>\n",
       "      <td>2.846000</td>\n",
       "      <td>...</td>\n",
       "      <td>2.865000</td>\n",
       "      <td>2.801000</td>\n",
       "      <td>2.736000</td>\n",
       "      <td>2.596000</td>\n",
       "      <td>2.226000</td>\n",
       "      <td>3.131000</td>\n",
       "      <td>3.236000</td>\n",
       "      <td>2.626000</td>\n",
       "      <td>3.530000</td>\n",
       "      <td>2.771000</td>\n",
       "    </tr>\n",
       "  </tbody>\n",
       "</table>\n",
       "<p>8 rows × 302 columns</p>\n",
       "</div>"
      ],
      "text/plain": [
       "               id      target           0           1           2           3  \\\n",
       "count  250.000000  250.000000  250.000000  250.000000  250.000000  250.000000   \n",
       "mean   124.500000    0.640000    0.023292   -0.026872    0.167404    0.001904   \n",
       "std     72.312977    0.480963    0.998354    1.009314    1.021709    1.011751   \n",
       "min      0.000000    0.000000   -2.319000   -2.931000   -2.477000   -2.359000   \n",
       "25%     62.250000    0.000000   -0.644750   -0.739750   -0.425250   -0.686500   \n",
       "50%    124.500000    1.000000   -0.015500    0.057000    0.184000   -0.016500   \n",
       "75%    186.750000    1.000000    0.677000    0.620750    0.805000    0.720000   \n",
       "max    249.000000    1.000000    2.567000    2.419000    3.392000    2.771000   \n",
       "\n",
       "                4           5           6           7  ...         290  \\\n",
       "count  250.000000  250.000000  250.000000  250.000000  ...  250.000000   \n",
       "mean     0.001588   -0.007304    0.032052    0.078412  ...    0.044652   \n",
       "std      1.035411    0.955700    1.006657    0.939731  ...    1.011416   \n",
       "min     -2.566000   -2.845000   -2.976000   -3.444000  ...   -2.804000   \n",
       "25%     -0.659000   -0.643750   -0.675000   -0.550750  ...   -0.617000   \n",
       "50%     -0.023000    0.037500    0.060500    0.183500  ...    0.067500   \n",
       "75%      0.735000    0.660500    0.783250    0.766250  ...    0.797250   \n",
       "max      2.901000    2.793000    2.546000    2.846000  ...    2.865000   \n",
       "\n",
       "              291         292         293         294         295         296  \\\n",
       "count  250.000000  250.000000  250.000000  250.000000  250.000000  250.000000   \n",
       "mean     0.126344    0.018436   -0.012092   -0.065720   -0.106112    0.046472   \n",
       "std      0.972567    0.954229    0.960630    1.057414    1.038389    0.967661   \n",
       "min     -2.443000   -2.757000   -2.466000   -3.287000   -3.072000   -2.634000   \n",
       "25%     -0.510500   -0.535750   -0.657000   -0.818500   -0.821000   -0.605500   \n",
       "50%      0.091000    0.057500   -0.021000   -0.009000   -0.079500    0.009500   \n",
       "75%      0.804250    0.631500    0.650250    0.739500    0.493000    0.683000   \n",
       "max      2.801000    2.736000    2.596000    2.226000    3.131000    3.236000   \n",
       "\n",
       "              297         298         299  \n",
       "count  250.000000  250.000000  250.000000  \n",
       "mean     0.006452    0.009372   -0.128952  \n",
       "std      0.998984    1.008099    0.971219  \n",
       "min     -2.776000   -3.211000   -3.500000  \n",
       "25%     -0.751250   -0.550000   -0.754250  \n",
       "50%      0.005500   -0.009000   -0.132500  \n",
       "75%      0.794250    0.654250    0.503250  \n",
       "max      2.626000    3.530000    2.771000  \n",
       "\n",
       "[8 rows x 302 columns]"
      ]
     },
     "execution_count": 5,
     "metadata": {},
     "output_type": "execute_result"
    }
   ],
   "source": [
    "data.describe()"
   ]
  },
  {
   "cell_type": "code",
   "execution_count": 6,
   "metadata": {},
   "outputs": [
    {
     "name": "stdout",
     "output_type": "stream",
     "text": [
      "<class 'pandas.core.frame.DataFrame'>\n",
      "RangeIndex: 250 entries, 0 to 249\n",
      "Columns: 302 entries, id to 299\n",
      "dtypes: float64(301), int64(1)\n",
      "memory usage: 589.9 KB\n"
     ]
    }
   ],
   "source": [
    "data.info()"
   ]
  },
  {
   "cell_type": "code",
   "execution_count": 7,
   "metadata": {},
   "outputs": [
    {
     "data": {
      "text/plain": [
       "id        False\n",
       "target    False\n",
       "0         False\n",
       "1         False\n",
       "2         False\n",
       "3         False\n",
       "4         False\n",
       "5         False\n",
       "6         False\n",
       "7         False\n",
       "8         False\n",
       "9         False\n",
       "10        False\n",
       "11        False\n",
       "12        False\n",
       "13        False\n",
       "14        False\n",
       "15        False\n",
       "16        False\n",
       "17        False\n",
       "18        False\n",
       "19        False\n",
       "20        False\n",
       "21        False\n",
       "22        False\n",
       "23        False\n",
       "24        False\n",
       "25        False\n",
       "26        False\n",
       "27        False\n",
       "          ...  \n",
       "270       False\n",
       "271       False\n",
       "272       False\n",
       "273       False\n",
       "274       False\n",
       "275       False\n",
       "276       False\n",
       "277       False\n",
       "278       False\n",
       "279       False\n",
       "280       False\n",
       "281       False\n",
       "282       False\n",
       "283       False\n",
       "284       False\n",
       "285       False\n",
       "286       False\n",
       "287       False\n",
       "288       False\n",
       "289       False\n",
       "290       False\n",
       "291       False\n",
       "292       False\n",
       "293       False\n",
       "294       False\n",
       "295       False\n",
       "296       False\n",
       "297       False\n",
       "298       False\n",
       "299       False\n",
       "Length: 302, dtype: bool"
      ]
     },
     "execution_count": 7,
     "metadata": {},
     "output_type": "execute_result"
    }
   ],
   "source": [
    "data.isnull().any()"
   ]
  },
  {
   "cell_type": "code",
   "execution_count": 8,
   "metadata": {},
   "outputs": [
    {
     "data": {
      "text/plain": [
       "array([1., 0.])"
      ]
     },
     "execution_count": 8,
     "metadata": {},
     "output_type": "execute_result"
    }
   ],
   "source": [
    "data['target'].unique()"
   ]
  },
  {
   "cell_type": "code",
   "execution_count": 9,
   "metadata": {},
   "outputs": [
    {
     "data": {
      "text/plain": [
       "1.0    160\n",
       "0.0     90\n",
       "Name: target, dtype: int64"
      ]
     },
     "execution_count": 9,
     "metadata": {},
     "output_type": "execute_result"
    }
   ],
   "source": [
    "target = data['target']\n",
    "target.value_counts()"
   ]
  },
  {
   "cell_type": "code",
   "execution_count": 10,
   "metadata": {},
   "outputs": [],
   "source": [
    "features = data.drop(['target','id'],axis = 1)"
   ]
  },
  {
   "cell_type": "code",
   "execution_count": 11,
   "metadata": {},
   "outputs": [],
   "source": [
    "import matplotlib.pyplot as plt"
   ]
  },
  {
   "cell_type": "code",
   "execution_count": 12,
   "metadata": {},
   "outputs": [
    {
     "data": {
      "image/png": "[encoded data removed]",
      "text/plain": [
       "<Figure size 432x288 with 1 Axes>"
      ]
     },
     "metadata": {
      "needs_background": "light"
     },
     "output_type": "display_data"
    }
   ],
   "source": [
    "plt.boxplot(x = [features['1'],features['7'],features['21'],features['63'],features['105'],features['203']])\n",
    "plt.show()"
   ]
  },
  {
   "cell_type": "code",
   "execution_count": 13,
   "metadata": {},
   "outputs": [],
   "source": [
    "plt.show()"
   ]
  },
  {
   "cell_type": "code",
   "execution_count": 14,
   "metadata": {},
   "outputs": [
    {
     "data": {
      "text/plain": [
       "{'whiskers': [<matplotlib.lines.Line2D at 0x7fa28280bac8>,\n",
       "  <matplotlib.lines.Line2D at 0x7fa28280be10>,\n",
       "  <matplotlib.lines.Line2D at 0x7fa282815f28>,\n",
       "  <matplotlib.lines.Line2D at 0x7fa28281f588>,\n",
       "  <matplotlib.lines.Line2D at 0x7fa28282b978>,\n",
       "  <matplotlib.lines.Line2D at 0x7fa28282bcc0>,\n",
       "  <matplotlib.lines.Line2D at 0x7fa282833dd8>,\n",
       "  <matplotlib.lines.Line2D at 0x7fa28283f438>,\n",
       "  <matplotlib.lines.Line2D at 0x7fa2827c9828>,\n",
       "  <matplotlib.lines.Line2D at 0x7fa2827c9b70>],\n",
       " 'caps': [<matplotlib.lines.Line2D at 0x7fa28280be80>,\n",
       "  <matplotlib.lines.Line2D at 0x7fa2828154e0>,\n",
       "  <matplotlib.lines.Line2D at 0x7fa28281f8d0>,\n",
       "  <matplotlib.lines.Line2D at 0x7fa28281fc18>,\n",
       "  <matplotlib.lines.Line2D at 0x7fa28282bd30>,\n",
       "  <matplotlib.lines.Line2D at 0x7fa282833390>,\n",
       "  <matplotlib.lines.Line2D at 0x7fa28283f780>,\n",
       "  <matplotlib.lines.Line2D at 0x7fa28283fac8>,\n",
       "  <matplotlib.lines.Line2D at 0x7fa2827c9eb8>,\n",
       "  <matplotlib.lines.Line2D at 0x7fa2827c9f28>],\n",
       " 'boxes': [<matplotlib.lines.Line2D at 0x7fa282891e80>,\n",
       "  <matplotlib.lines.Line2D at 0x7fa282815eb8>,\n",
       "  <matplotlib.lines.Line2D at 0x7fa28282b630>,\n",
       "  <matplotlib.lines.Line2D at 0x7fa282833d68>,\n",
       "  <matplotlib.lines.Line2D at 0x7fa2827c94e0>],\n",
       " 'medians': [<matplotlib.lines.Line2D at 0x7fa282815828>,\n",
       "  <matplotlib.lines.Line2D at 0x7fa28281ff60>,\n",
       "  <matplotlib.lines.Line2D at 0x7fa2828336d8>,\n",
       "  <matplotlib.lines.Line2D at 0x7fa28283fe10>,\n",
       "  <matplotlib.lines.Line2D at 0x7fa2827d2588>],\n",
       " 'fliers': [<matplotlib.lines.Line2D at 0x7fa282815b70>,\n",
       "  <matplotlib.lines.Line2D at 0x7fa28282b2e8>,\n",
       "  <matplotlib.lines.Line2D at 0x7fa282833a20>,\n",
       "  <matplotlib.lines.Line2D at 0x7fa28283fe80>,\n",
       "  <matplotlib.lines.Line2D at 0x7fa2827d28d0>],\n",
       " 'means': []}"
      ]
     },
     "execution_count": 14,
     "metadata": {},
     "output_type": "execute_result"
    },
    {
     "data": {
      "image/png": "[encoded data removed]",
      "text/plain": [
       "<Figure size 432x288 with 1 Axes>"
      ]
     },
     "metadata": {
      "needs_background": "light"
     },
     "output_type": "display_data"
    }
   ],
   "source": [
    "plt.boxplot(x = [features['5'], features['15'],features['45'],features['125'],features['203']])"
   ]
  },
  {
   "cell_type": "code",
   "execution_count": 15,
   "metadata": {},
   "outputs": [
    {
     "data": {
      "text/plain": [
       "<matplotlib.legend.Legend at 0x7fa283b67cf8>"
      ]
     },
     "execution_count": 15,
     "metadata": {},
     "output_type": "execute_result"
    },
    {
     "data": {
      "image/png": "[encoded data removed]",
      "text/plain": [
       "<Figure size 432x288 with 1 Axes>"
      ]
     },
     "metadata": {
      "needs_background": "light"
     },
     "output_type": "display_data"
    }
   ],
   "source": [
    "plt.figure()\n",
    "plt.plot(features['27'])\n",
    "plt.plot(features['67'])\n",
    "plt.legend()"
   ]
  },
  {
   "cell_type": "code",
   "execution_count": 16,
   "metadata": {},
   "outputs": [
    {
     "data": {
      "text/plain": [
       "<matplotlib.legend.Legend at 0x7fa28292b898>"
      ]
     },
     "execution_count": 16,
     "metadata": {},
     "output_type": "execute_result"
    },
    {
     "data": {
      "image/png": "[encoded data removed]",
      "text/plain": [
       "<Figure size 432x288 with 1 Axes>"
      ]
     },
     "metadata": {
      "needs_background": "light"
     },
     "output_type": "display_data"
    }
   ],
   "source": [
    "plt.plot(features['34'])\n",
    "plt.plot(features['299'])\n",
    "plt.legend()"
   ]
  },
  {
   "cell_type": "markdown",
   "metadata": {},
   "source": [
    "We selected random features and plotted them. The features seem to be normalised in the range [-3.5,+3.5]"
   ]
  },
  {
   "cell_type": "code",
   "execution_count": 17,
   "metadata": {},
   "outputs": [],
   "source": [
    "corr = data.corr()"
   ]
  },
  {
   "cell_type": "code",
   "execution_count": 18,
   "metadata": {},
   "outputs": [
    {
     "data": {
      "text/html": [
       "<div>\n",
       "<style scoped>\n",
       "    .dataframe tbody tr th:only-of-type {\n",
       "        vertical-align: middle;\n",
       "    }\n",
       "\n",
       "    .dataframe tbody tr th {\n",
       "        vertical-align: top;\n",
       "    }\n",
       "\n",
       "    .dataframe thead th {\n",
       "        text-align: right;\n",
       "    }\n",
       "</style>\n",
       "<table border=\"1\" class=\"dataframe\">\n",
       "  <thead>\n",
       "    <tr style=\"text-align: right;\">\n",
       "      <th></th>\n",
       "      <th>id</th>\n",
       "      <th>target</th>\n",
       "      <th>0</th>\n",
       "      <th>1</th>\n",
       "      <th>2</th>\n",
       "      <th>3</th>\n",
       "      <th>4</th>\n",
       "      <th>5</th>\n",
       "      <th>6</th>\n",
       "      <th>7</th>\n",
       "      <th>...</th>\n",
       "      <th>290</th>\n",
       "      <th>291</th>\n",
       "      <th>292</th>\n",
       "      <th>293</th>\n",
       "      <th>294</th>\n",
       "      <th>295</th>\n",
       "      <th>296</th>\n",
       "      <th>297</th>\n",
       "      <th>298</th>\n",
       "      <th>299</th>\n",
       "    </tr>\n",
       "  </thead>\n",
       "  <tbody>\n",
       "    <tr>\n",
       "      <th>target</th>\n",
       "      <td>-0.151498</td>\n",
       "      <td>1.000000</td>\n",
       "      <td>0.108966</td>\n",
       "      <td>-0.073319</td>\n",
       "      <td>-0.015141</td>\n",
       "      <td>0.011549</td>\n",
       "      <td>-0.114726</td>\n",
       "      <td>-0.050329</td>\n",
       "      <td>-0.057063</td>\n",
       "      <td>0.004239</td>\n",
       "      <td>...</td>\n",
       "      <td>0.039675</td>\n",
       "      <td>0.055694</td>\n",
       "      <td>-0.088930</td>\n",
       "      <td>-0.034363</td>\n",
       "      <td>-0.031964</td>\n",
       "      <td>-0.170501</td>\n",
       "      <td>0.007434</td>\n",
       "      <td>0.056810</td>\n",
       "      <td>-0.134760</td>\n",
       "      <td>-0.075475</td>\n",
       "    </tr>\n",
       "    <tr>\n",
       "      <th>0</th>\n",
       "      <td>0.029519</td>\n",
       "      <td>0.108966</td>\n",
       "      <td>1.000000</td>\n",
       "      <td>-0.003871</td>\n",
       "      <td>-0.010487</td>\n",
       "      <td>-0.047819</td>\n",
       "      <td>0.013967</td>\n",
       "      <td>0.070091</td>\n",
       "      <td>-0.022537</td>\n",
       "      <td>0.002832</td>\n",
       "      <td>...</td>\n",
       "      <td>-0.023230</td>\n",
       "      <td>0.053416</td>\n",
       "      <td>-0.143668</td>\n",
       "      <td>-0.007530</td>\n",
       "      <td>-0.060824</td>\n",
       "      <td>-0.024839</td>\n",
       "      <td>-0.051288</td>\n",
       "      <td>0.029143</td>\n",
       "      <td>0.065951</td>\n",
       "      <td>0.038523</td>\n",
       "    </tr>\n",
       "    <tr>\n",
       "      <th>13</th>\n",
       "      <td>0.039857</td>\n",
       "      <td>0.107828</td>\n",
       "      <td>0.049368</td>\n",
       "      <td>-0.111360</td>\n",
       "      <td>-0.073799</td>\n",
       "      <td>-0.041555</td>\n",
       "      <td>-0.054940</td>\n",
       "      <td>0.053074</td>\n",
       "      <td>-0.028456</td>\n",
       "      <td>-0.129851</td>\n",
       "      <td>...</td>\n",
       "      <td>0.067172</td>\n",
       "      <td>-0.046984</td>\n",
       "      <td>-0.039332</td>\n",
       "      <td>-0.020716</td>\n",
       "      <td>-0.039562</td>\n",
       "      <td>-0.062818</td>\n",
       "      <td>-0.043391</td>\n",
       "      <td>0.064835</td>\n",
       "      <td>-0.047400</td>\n",
       "      <td>0.000047</td>\n",
       "    </tr>\n",
       "    <tr>\n",
       "      <th>17</th>\n",
       "      <td>-0.037290</td>\n",
       "      <td>0.110998</td>\n",
       "      <td>0.013264</td>\n",
       "      <td>-0.115217</td>\n",
       "      <td>-0.019571</td>\n",
       "      <td>-0.025095</td>\n",
       "      <td>-0.096988</td>\n",
       "      <td>-0.131270</td>\n",
       "      <td>0.030455</td>\n",
       "      <td>0.039841</td>\n",
       "      <td>...</td>\n",
       "      <td>0.058518</td>\n",
       "      <td>-0.067853</td>\n",
       "      <td>-0.067064</td>\n",
       "      <td>0.047982</td>\n",
       "      <td>0.034879</td>\n",
       "      <td>-0.122605</td>\n",
       "      <td>-0.000236</td>\n",
       "      <td>0.053383</td>\n",
       "      <td>0.068385</td>\n",
       "      <td>-0.111602</td>\n",
       "    </tr>\n",
       "    <tr>\n",
       "      <th>24</th>\n",
       "      <td>0.033948</td>\n",
       "      <td>0.173096</td>\n",
       "      <td>-0.030686</td>\n",
       "      <td>0.069004</td>\n",
       "      <td>0.002037</td>\n",
       "      <td>-0.058211</td>\n",
       "      <td>0.008885</td>\n",
       "      <td>0.027247</td>\n",
       "      <td>0.028545</td>\n",
       "      <td>0.020165</td>\n",
       "      <td>...</td>\n",
       "      <td>0.105075</td>\n",
       "      <td>-0.015667</td>\n",
       "      <td>0.020669</td>\n",
       "      <td>0.008645</td>\n",
       "      <td>0.033071</td>\n",
       "      <td>0.036107</td>\n",
       "      <td>-0.115851</td>\n",
       "      <td>0.016726</td>\n",
       "      <td>-0.080493</td>\n",
       "      <td>-0.066220</td>\n",
       "    </tr>\n",
       "    <tr>\n",
       "      <th>30</th>\n",
       "      <td>-0.066357</td>\n",
       "      <td>0.132705</td>\n",
       "      <td>0.079281</td>\n",
       "      <td>0.022960</td>\n",
       "      <td>-0.150335</td>\n",
       "      <td>-0.021002</td>\n",
       "      <td>0.133551</td>\n",
       "      <td>-0.006420</td>\n",
       "      <td>0.043679</td>\n",
       "      <td>-0.009042</td>\n",
       "      <td>...</td>\n",
       "      <td>0.051923</td>\n",
       "      <td>-0.018193</td>\n",
       "      <td>-0.086934</td>\n",
       "      <td>0.018091</td>\n",
       "      <td>-0.040040</td>\n",
       "      <td>-0.021804</td>\n",
       "      <td>0.076440</td>\n",
       "      <td>0.103994</td>\n",
       "      <td>-0.098795</td>\n",
       "      <td>-0.058891</td>\n",
       "    </tr>\n",
       "    <tr>\n",
       "      <th>33</th>\n",
       "      <td>-0.061442</td>\n",
       "      <td>0.373608</td>\n",
       "      <td>0.077961</td>\n",
       "      <td>-0.029111</td>\n",
       "      <td>-0.005696</td>\n",
       "      <td>-0.080824</td>\n",
       "      <td>-0.098663</td>\n",
       "      <td>-0.001369</td>\n",
       "      <td>-0.036091</td>\n",
       "      <td>-0.019799</td>\n",
       "      <td>...</td>\n",
       "      <td>0.029973</td>\n",
       "      <td>0.094062</td>\n",
       "      <td>-0.043754</td>\n",
       "      <td>0.046774</td>\n",
       "      <td>-0.038299</td>\n",
       "      <td>0.035106</td>\n",
       "      <td>0.017139</td>\n",
       "      <td>0.054174</td>\n",
       "      <td>-0.062856</td>\n",
       "      <td>-0.027067</td>\n",
       "    </tr>\n",
       "    <tr>\n",
       "      <th>65</th>\n",
       "      <td>0.004333</td>\n",
       "      <td>0.293846</td>\n",
       "      <td>-0.008203</td>\n",
       "      <td>-0.033809</td>\n",
       "      <td>-0.010196</td>\n",
       "      <td>0.038706</td>\n",
       "      <td>-0.006212</td>\n",
       "      <td>-0.063151</td>\n",
       "      <td>-0.059622</td>\n",
       "      <td>-0.008603</td>\n",
       "      <td>...</td>\n",
       "      <td>-0.017998</td>\n",
       "      <td>0.004426</td>\n",
       "      <td>-0.083451</td>\n",
       "      <td>0.062713</td>\n",
       "      <td>0.002922</td>\n",
       "      <td>-0.137809</td>\n",
       "      <td>-0.041061</td>\n",
       "      <td>-0.014395</td>\n",
       "      <td>-0.042765</td>\n",
       "      <td>-0.009762</td>\n",
       "    </tr>\n",
       "    <tr>\n",
       "      <th>101</th>\n",
       "      <td>-0.083957</td>\n",
       "      <td>0.118379</td>\n",
       "      <td>0.039059</td>\n",
       "      <td>-0.023903</td>\n",
       "      <td>0.080992</td>\n",
       "      <td>-0.027281</td>\n",
       "      <td>-0.059944</td>\n",
       "      <td>0.059011</td>\n",
       "      <td>-0.049998</td>\n",
       "      <td>0.132843</td>\n",
       "      <td>...</td>\n",
       "      <td>0.034189</td>\n",
       "      <td>-0.048411</td>\n",
       "      <td>0.044579</td>\n",
       "      <td>0.106723</td>\n",
       "      <td>-0.102317</td>\n",
       "      <td>0.006123</td>\n",
       "      <td>0.052391</td>\n",
       "      <td>-0.048982</td>\n",
       "      <td>0.107234</td>\n",
       "      <td>0.090347</td>\n",
       "    </tr>\n",
       "    <tr>\n",
       "      <th>105</th>\n",
       "      <td>0.045938</td>\n",
       "      <td>0.110589</td>\n",
       "      <td>-0.036070</td>\n",
       "      <td>-0.020643</td>\n",
       "      <td>-0.049418</td>\n",
       "      <td>0.056790</td>\n",
       "      <td>-0.112774</td>\n",
       "      <td>0.003644</td>\n",
       "      <td>0.070755</td>\n",
       "      <td>-0.079543</td>\n",
       "      <td>...</td>\n",
       "      <td>0.121834</td>\n",
       "      <td>-0.011073</td>\n",
       "      <td>0.080306</td>\n",
       "      <td>-0.006930</td>\n",
       "      <td>-0.083802</td>\n",
       "      <td>-0.110927</td>\n",
       "      <td>0.010975</td>\n",
       "      <td>0.088781</td>\n",
       "      <td>0.033571</td>\n",
       "      <td>0.105387</td>\n",
       "    </tr>\n",
       "    <tr>\n",
       "      <th>114</th>\n",
       "      <td>-0.025537</td>\n",
       "      <td>0.124792</td>\n",
       "      <td>0.066763</td>\n",
       "      <td>-0.018087</td>\n",
       "      <td>0.059835</td>\n",
       "      <td>-0.044346</td>\n",
       "      <td>-0.016744</td>\n",
       "      <td>-0.045727</td>\n",
       "      <td>-0.008943</td>\n",
       "      <td>0.031032</td>\n",
       "      <td>...</td>\n",
       "      <td>0.056607</td>\n",
       "      <td>-0.059813</td>\n",
       "      <td>0.069138</td>\n",
       "      <td>0.049260</td>\n",
       "      <td>-0.051353</td>\n",
       "      <td>0.013138</td>\n",
       "      <td>0.036835</td>\n",
       "      <td>0.002315</td>\n",
       "      <td>-0.044520</td>\n",
       "      <td>0.085586</td>\n",
       "    </tr>\n",
       "    <tr>\n",
       "      <th>164</th>\n",
       "      <td>-0.013656</td>\n",
       "      <td>0.124151</td>\n",
       "      <td>-0.004795</td>\n",
       "      <td>-0.012835</td>\n",
       "      <td>0.070045</td>\n",
       "      <td>-0.007962</td>\n",
       "      <td>-0.018592</td>\n",
       "      <td>0.029134</td>\n",
       "      <td>0.042105</td>\n",
       "      <td>-0.078925</td>\n",
       "      <td>...</td>\n",
       "      <td>0.052649</td>\n",
       "      <td>-0.063572</td>\n",
       "      <td>-0.018621</td>\n",
       "      <td>-0.027063</td>\n",
       "      <td>0.057573</td>\n",
       "      <td>-0.135986</td>\n",
       "      <td>0.007876</td>\n",
       "      <td>0.107787</td>\n",
       "      <td>-0.127003</td>\n",
       "      <td>0.104178</td>\n",
       "    </tr>\n",
       "    <tr>\n",
       "      <th>183</th>\n",
       "      <td>-0.081982</td>\n",
       "      <td>0.164146</td>\n",
       "      <td>-0.008702</td>\n",
       "      <td>-0.040961</td>\n",
       "      <td>0.040487</td>\n",
       "      <td>0.055643</td>\n",
       "      <td>0.081437</td>\n",
       "      <td>0.025808</td>\n",
       "      <td>0.007170</td>\n",
       "      <td>-0.012446</td>\n",
       "      <td>...</td>\n",
       "      <td>0.052517</td>\n",
       "      <td>0.082950</td>\n",
       "      <td>-0.012039</td>\n",
       "      <td>-0.005889</td>\n",
       "      <td>-0.051149</td>\n",
       "      <td>0.043212</td>\n",
       "      <td>-0.038662</td>\n",
       "      <td>-0.013134</td>\n",
       "      <td>-0.101438</td>\n",
       "      <td>-0.120239</td>\n",
       "    </tr>\n",
       "    <tr>\n",
       "      <th>199</th>\n",
       "      <td>-0.041458</td>\n",
       "      <td>0.159442</td>\n",
       "      <td>-0.027085</td>\n",
       "      <td>-0.025796</td>\n",
       "      <td>0.054971</td>\n",
       "      <td>-0.100719</td>\n",
       "      <td>0.036485</td>\n",
       "      <td>-0.051490</td>\n",
       "      <td>-0.070488</td>\n",
       "      <td>-0.148805</td>\n",
       "      <td>...</td>\n",
       "      <td>0.024019</td>\n",
       "      <td>-0.033527</td>\n",
       "      <td>0.086854</td>\n",
       "      <td>-0.098652</td>\n",
       "      <td>-0.012435</td>\n",
       "      <td>0.001752</td>\n",
       "      <td>-0.077030</td>\n",
       "      <td>0.196448</td>\n",
       "      <td>0.081739</td>\n",
       "      <td>0.031585</td>\n",
       "    </tr>\n",
       "    <tr>\n",
       "      <th>201</th>\n",
       "      <td>-0.052031</td>\n",
       "      <td>0.142238</td>\n",
       "      <td>0.101128</td>\n",
       "      <td>0.051452</td>\n",
       "      <td>0.114076</td>\n",
       "      <td>-0.027099</td>\n",
       "      <td>0.022625</td>\n",
       "      <td>-0.097812</td>\n",
       "      <td>-0.107043</td>\n",
       "      <td>0.072604</td>\n",
       "      <td>...</td>\n",
       "      <td>-0.095656</td>\n",
       "      <td>-0.038191</td>\n",
       "      <td>-0.105713</td>\n",
       "      <td>0.052810</td>\n",
       "      <td>-0.095935</td>\n",
       "      <td>0.026793</td>\n",
       "      <td>-0.062333</td>\n",
       "      <td>0.040997</td>\n",
       "      <td>0.044978</td>\n",
       "      <td>-0.015057</td>\n",
       "    </tr>\n",
       "    <tr>\n",
       "      <th>226</th>\n",
       "      <td>-0.143116</td>\n",
       "      <td>0.113660</td>\n",
       "      <td>0.141723</td>\n",
       "      <td>0.075280</td>\n",
       "      <td>0.051597</td>\n",
       "      <td>-0.025840</td>\n",
       "      <td>0.014597</td>\n",
       "      <td>-0.054625</td>\n",
       "      <td>-0.071057</td>\n",
       "      <td>-0.052828</td>\n",
       "      <td>...</td>\n",
       "      <td>0.024726</td>\n",
       "      <td>-0.087676</td>\n",
       "      <td>-0.010870</td>\n",
       "      <td>-0.079672</td>\n",
       "      <td>0.082087</td>\n",
       "      <td>-0.029275</td>\n",
       "      <td>0.035509</td>\n",
       "      <td>-0.093305</td>\n",
       "      <td>0.004922</td>\n",
       "      <td>0.066242</td>\n",
       "    </tr>\n",
       "    <tr>\n",
       "      <th>244</th>\n",
       "      <td>-0.002920</td>\n",
       "      <td>0.108147</td>\n",
       "      <td>-0.053526</td>\n",
       "      <td>0.019417</td>\n",
       "      <td>0.007778</td>\n",
       "      <td>0.130084</td>\n",
       "      <td>-0.036457</td>\n",
       "      <td>0.037586</td>\n",
       "      <td>0.008281</td>\n",
       "      <td>0.048241</td>\n",
       "      <td>...</td>\n",
       "      <td>0.097899</td>\n",
       "      <td>-0.003809</td>\n",
       "      <td>0.110593</td>\n",
       "      <td>-0.088824</td>\n",
       "      <td>-0.016893</td>\n",
       "      <td>0.048632</td>\n",
       "      <td>-0.028390</td>\n",
       "      <td>0.014025</td>\n",
       "      <td>0.036166</td>\n",
       "      <td>0.135550</td>\n",
       "    </tr>\n",
       "    <tr>\n",
       "      <th>272</th>\n",
       "      <td>-0.012489</td>\n",
       "      <td>0.113909</td>\n",
       "      <td>0.007584</td>\n",
       "      <td>-0.006171</td>\n",
       "      <td>-0.160163</td>\n",
       "      <td>0.134583</td>\n",
       "      <td>0.032491</td>\n",
       "      <td>0.033679</td>\n",
       "      <td>-0.003165</td>\n",
       "      <td>-0.029143</td>\n",
       "      <td>...</td>\n",
       "      <td>0.093476</td>\n",
       "      <td>-0.010894</td>\n",
       "      <td>-0.025662</td>\n",
       "      <td>-0.076839</td>\n",
       "      <td>-0.007824</td>\n",
       "      <td>-0.023935</td>\n",
       "      <td>-0.007085</td>\n",
       "      <td>0.098548</td>\n",
       "      <td>-0.060075</td>\n",
       "      <td>0.042014</td>\n",
       "    </tr>\n",
       "    <tr>\n",
       "      <th>289</th>\n",
       "      <td>-0.048881</td>\n",
       "      <td>0.127213</td>\n",
       "      <td>0.034457</td>\n",
       "      <td>-0.070546</td>\n",
       "      <td>0.046566</td>\n",
       "      <td>-0.028037</td>\n",
       "      <td>0.083630</td>\n",
       "      <td>0.102683</td>\n",
       "      <td>-0.143277</td>\n",
       "      <td>0.071279</td>\n",
       "      <td>...</td>\n",
       "      <td>0.045336</td>\n",
       "      <td>0.035585</td>\n",
       "      <td>0.126121</td>\n",
       "      <td>0.041402</td>\n",
       "      <td>0.016806</td>\n",
       "      <td>-0.068796</td>\n",
       "      <td>-0.092074</td>\n",
       "      <td>0.076721</td>\n",
       "      <td>-0.115568</td>\n",
       "      <td>0.001902</td>\n",
       "    </tr>\n",
       "  </tbody>\n",
       "</table>\n",
       "<p>19 rows × 302 columns</p>\n",
       "</div>"
      ],
      "text/plain": [
       "              id    target         0         1         2         3         4  \\\n",
       "target -0.151498  1.000000  0.108966 -0.073319 -0.015141  0.011549 -0.114726   \n",
       "0       0.029519  0.108966  1.000000 -0.003871 -0.010487 -0.047819  0.013967   \n",
       "13      0.039857  0.107828  0.049368 -0.111360 -0.073799 -0.041555 -0.054940   \n",
       "17     -0.037290  0.110998  0.013264 -0.115217 -0.019571 -0.025095 -0.096988   \n",
       "24      0.033948  0.173096 -0.030686  0.069004  0.002037 -0.058211  0.008885   \n",
       "30     -0.066357  0.132705  0.079281  0.022960 -0.150335 -0.021002  0.133551   \n",
       "33     -0.061442  0.373608  0.077961 -0.029111 -0.005696 -0.080824 -0.098663   \n",
       "65      0.004333  0.293846 -0.008203 -0.033809 -0.010196  0.038706 -0.006212   \n",
       "101    -0.083957  0.118379  0.039059 -0.023903  0.080992 -0.027281 -0.059944   \n",
       "105     0.045938  0.110589 -0.036070 -0.020643 -0.049418  0.056790 -0.112774   \n",
       "114    -0.025537  0.124792  0.066763 -0.018087  0.059835 -0.044346 -0.016744   \n",
       "164    -0.013656  0.124151 -0.004795 -0.012835  0.070045 -0.007962 -0.018592   \n",
       "183    -0.081982  0.164146 -0.008702 -0.040961  0.040487  0.055643  0.081437   \n",
       "199    -0.041458  0.159442 -0.027085 -0.025796  0.054971 -0.100719  0.036485   \n",
       "201    -0.052031  0.142238  0.101128  0.051452  0.114076 -0.027099  0.022625   \n",
       "226    -0.143116  0.113660  0.141723  0.075280  0.051597 -0.025840  0.014597   \n",
       "244    -0.002920  0.108147 -0.053526  0.019417  0.007778  0.130084 -0.036457   \n",
       "272    -0.012489  0.113909  0.007584 -0.006171 -0.160163  0.134583  0.032491   \n",
       "289    -0.048881  0.127213  0.034457 -0.070546  0.046566 -0.028037  0.083630   \n",
       "\n",
       "               5         6         7  ...       290       291       292  \\\n",
       "target -0.050329 -0.057063  0.004239  ...  0.039675  0.055694 -0.088930   \n",
       "0       0.070091 -0.022537  0.002832  ... -0.023230  0.053416 -0.143668   \n",
       "13      0.053074 -0.028456 -0.129851  ...  0.067172 -0.046984 -0.039332   \n",
       "17     -0.131270  0.030455  0.039841  ...  0.058518 -0.067853 -0.067064   \n",
       "24      0.027247  0.028545  0.020165  ...  0.105075 -0.015667  0.020669   \n",
       "30     -0.006420  0.043679 -0.009042  ...  0.051923 -0.018193 -0.086934   \n",
       "33     -0.001369 -0.036091 -0.019799  ...  0.029973  0.094062 -0.043754   \n",
       "65     -0.063151 -0.059622 -0.008603  ... -0.017998  0.004426 -0.083451   \n",
       "101     0.059011 -0.049998  0.132843  ...  0.034189 -0.048411  0.044579   \n",
       "105     0.003644  0.070755 -0.079543  ...  0.121834 -0.011073  0.080306   \n",
       "114    -0.045727 -0.008943  0.031032  ...  0.056607 -0.059813  0.069138   \n",
       "164     0.029134  0.042105 -0.078925  ...  0.052649 -0.063572 -0.018621   \n",
       "183     0.025808  0.007170 -0.012446  ...  0.052517  0.082950 -0.012039   \n",
       "199    -0.051490 -0.070488 -0.148805  ...  0.024019 -0.033527  0.086854   \n",
       "201    -0.097812 -0.107043  0.072604  ... -0.095656 -0.038191 -0.105713   \n",
       "226    -0.054625 -0.071057 -0.052828  ...  0.024726 -0.087676 -0.010870   \n",
       "244     0.037586  0.008281  0.048241  ...  0.097899 -0.003809  0.110593   \n",
       "272     0.033679 -0.003165 -0.029143  ...  0.093476 -0.010894 -0.025662   \n",
       "289     0.102683 -0.143277  0.071279  ...  0.045336  0.035585  0.126121   \n",
       "\n",
       "             293       294       295       296       297       298       299  \n",
       "target -0.034363 -0.031964 -0.170501  0.007434  0.056810 -0.134760 -0.075475  \n",
       "0      -0.007530 -0.060824 -0.024839 -0.051288  0.029143  0.065951  0.038523  \n",
       "13     -0.020716 -0.039562 -0.062818 -0.043391  0.064835 -0.047400  0.000047  \n",
       "17      0.047982  0.034879 -0.122605 -0.000236  0.053383  0.068385 -0.111602  \n",
       "24      0.008645  0.033071  0.036107 -0.115851  0.016726 -0.080493 -0.066220  \n",
       "30      0.018091 -0.040040 -0.021804  0.076440  0.103994 -0.098795 -0.058891  \n",
       "33      0.046774 -0.038299  0.035106  0.017139  0.054174 -0.062856 -0.027067  \n",
       "65      0.062713  0.002922 -0.137809 -0.041061 -0.014395 -0.042765 -0.009762  \n",
       "101     0.106723 -0.102317  0.006123  0.052391 -0.048982  0.107234  0.090347  \n",
       "105    -0.006930 -0.083802 -0.110927  0.010975  0.088781  0.033571  0.105387  \n",
       "114     0.049260 -0.051353  0.013138  0.036835  0.002315 -0.044520  0.085586  \n",
       "164    -0.027063  0.057573 -0.135986  0.007876  0.107787 -0.127003  0.104178  \n",
       "183    -0.005889 -0.051149  0.043212 -0.038662 -0.013134 -0.101438 -0.120239  \n",
       "199    -0.098652 -0.012435  0.001752 -0.077030  0.196448  0.081739  0.031585  \n",
       "201     0.052810 -0.095935  0.026793 -0.062333  0.040997  0.044978 -0.015057  \n",
       "226    -0.079672  0.082087 -0.029275  0.035509 -0.093305  0.004922  0.066242  \n",
       "244    -0.088824 -0.016893  0.048632 -0.028390  0.014025  0.036166  0.135550  \n",
       "272    -0.076839 -0.007824 -0.023935 -0.007085  0.098548 -0.060075  0.042014  \n",
       "289     0.041402  0.016806 -0.068796 -0.092074  0.076721 -0.115568  0.001902  \n",
       "\n",
       "[19 rows x 302 columns]"
      ]
     },
     "execution_count": 18,
     "metadata": {},
     "output_type": "execute_result"
    }
   ],
   "source": [
    "corr.loc[corr['target']>0.1]"
   ]
  },
  {
   "cell_type": "code",
   "execution_count": 19,
   "metadata": {},
   "outputs": [],
   "source": [
    "g1 = features.loc[target == 0,['33','65']]\n",
    "g2 = features.loc[target == 0,['5','6']]\n",
    "g3 = features.loc[target == 0,['55','109']]"
   ]
  },
  {
   "cell_type": "code",
   "execution_count": 20,
   "metadata": {},
   "outputs": [],
   "source": [
    "h1 = features.loc[target == 1,['33','65']]\n",
    "h2 = features.loc[target == 1,['5','6']]\n",
    "h3 = features.loc[target == 1,['55','109']]"
   ]
  },
  {
   "cell_type": "code",
   "execution_count": 21,
   "metadata": {},
   "outputs": [
    {
     "data": {
      "text/plain": [
       "<matplotlib.legend.Legend at 0x7fa2826f53c8>"
      ]
     },
     "execution_count": 21,
     "metadata": {},
     "output_type": "execute_result"
    },
    {
     "data": {
      "image/png": "[encoded data removed]",
      "text/plain": [
       "<Figure size 1080x360 with 3 Axes>"
      ]
     },
     "metadata": {
      "needs_background": "light"
     },
     "output_type": "display_data"
    }
   ],
   "source": [
    "plt.figure(figsize = (15,5))\n",
    "plt.subplot(131)\n",
    "plt.scatter(x = g1['33'], y = g1['65'],label = 'target 0')\n",
    "plt.scatter(x = h1['33'], y = h1['65'],label = 'target 1')\n",
    "plt.legend()\n",
    "plt.subplot(132)\n",
    "plt.scatter(x = g2['5'], y = g2['6'],label = 'target 0')\n",
    "plt.scatter(x = h2['5'], y = h2['6'],label = 'target 1')\n",
    "plt.legend()\n",
    "plt.subplot(133)\n",
    "plt.scatter(x = g3['55'], y = g3['109'],label = 'target 0')\n",
    "plt.scatter(x = h3['55'], y = h3['109'],label = 'target 1')\n",
    "plt.legend()"
   ]
  },
  {
   "cell_type": "markdown",
   "metadata": {},
   "source": [
    "since columns '33' and '65' had the greatest correlation 0.3736 and 0.2938 with the target respectively, we plotted it to see how the data is scattered. we also tried by taking other random columns as well. "
   ]
  },
  {
   "cell_type": "markdown",
   "metadata": {},
   "source": [
    "The representation along with correlation value suggests that our features are only feebly able to classify the target."
   ]
  },
  {
   "cell_type": "code",
   "execution_count": 22,
   "metadata": {},
   "outputs": [],
   "source": [
    "from sklearn.model_selection import train_test_split"
   ]
  },
  {
   "cell_type": "code",
   "execution_count": 23,
   "metadata": {},
   "outputs": [],
   "source": [
    "x_train, x_test, y_train, y_test = train_test_split(features, target, test_size = 0.2)"
   ]
  },
  {
   "cell_type": "code",
   "execution_count": 24,
   "metadata": {},
   "outputs": [
    {
     "data": {
      "text/plain": [
       "(200, 300)"
      ]
     },
     "execution_count": 24,
     "metadata": {},
     "output_type": "execute_result"
    }
   ],
   "source": [
    "x_train.shape"
   ]
  },
  {
   "cell_type": "code",
   "execution_count": 25,
   "metadata": {},
   "outputs": [
    {
     "data": {
      "text/plain": [
       "(200,)"
      ]
     },
     "execution_count": 25,
     "metadata": {},
     "output_type": "execute_result"
    }
   ],
   "source": [
    "y_train.shape"
   ]
  },
  {
   "cell_type": "code",
   "execution_count": 26,
   "metadata": {},
   "outputs": [],
   "source": [
    "from sklearn.linear_model import LogisticRegression"
   ]
  },
  {
   "cell_type": "code",
   "execution_count": 27,
   "metadata": {},
   "outputs": [],
   "source": [
    "lr = LogisticRegression(C=1,penalty='l2', solver='liblinear')"
   ]
  },
  {
   "cell_type": "markdown",
   "metadata": {},
   "source": [
    "'liblinear' solver is used for small datasets while others like 'sag', 'saga' are used for larget datasets.\n",
    "penalty is the normalizer."
   ]
  },
  {
   "cell_type": "code",
   "execution_count": 28,
   "metadata": {},
   "outputs": [
    {
     "data": {
      "text/plain": [
       "LogisticRegression(C=1, class_weight=None, dual=False, fit_intercept=True,\n",
       "          intercept_scaling=1, max_iter=100, multi_class='warn',\n",
       "          n_jobs=None, penalty='l2', random_state=None, solver='liblinear',\n",
       "          tol=0.0001, verbose=0, warm_start=False)"
      ]
     },
     "execution_count": 28,
     "metadata": {},
     "output_type": "execute_result"
    }
   ],
   "source": [
    "lr.fit(x_train,y_train)"
   ]
  },
  {
   "cell_type": "code",
   "execution_count": 29,
   "metadata": {},
   "outputs": [
    {
     "data": {
      "text/plain": [
       "0.7"
      ]
     },
     "execution_count": 29,
     "metadata": {},
     "output_type": "execute_result"
    }
   ],
   "source": [
    "lr.score(x_test,y_test)"
   ]
  },
  {
   "cell_type": "code",
   "execution_count": 30,
   "metadata": {},
   "outputs": [],
   "source": [
    "Y_pred = lr.predict(x_test)"
   ]
  },
  {
   "cell_type": "code",
   "execution_count": 31,
   "metadata": {},
   "outputs": [
    {
     "data": {
      "text/plain": [
       "array([1., 0., 1., 1., 0., 0., 1., 1., 0., 0., 1., 1., 0., 1., 1., 0., 1.,\n",
       "       1., 1., 1., 1., 0., 1., 1., 0., 0., 1., 0., 0., 0., 1., 0., 1., 1.,\n",
       "       1., 0., 1., 0., 1., 1., 0., 1., 1., 1., 1., 0., 0., 0., 0., 0.])"
      ]
     },
     "execution_count": 31,
     "metadata": {},
     "output_type": "execute_result"
    }
   ],
   "source": [
    "Y_pred"
   ]
  },
  {
   "cell_type": "code",
   "execution_count": 32,
   "metadata": {},
   "outputs": [],
   "source": [
    "from sklearn.metrics import confusion_matrix"
   ]
  },
  {
   "cell_type": "code",
   "execution_count": 33,
   "metadata": {},
   "outputs": [
    {
     "data": {
      "text/plain": [
       "array([[ 9,  2],\n",
       "       [13, 26]])"
      ]
     },
     "execution_count": 33,
     "metadata": {},
     "output_type": "execute_result"
    }
   ],
   "source": [
    "confusion_matrix(y_test,Y_pred)"
   ]
  },
  {
   "cell_type": "code",
   "execution_count": 34,
   "metadata": {},
   "outputs": [],
   "source": [
    "from sklearn.linear_model import SGDClassifier"
   ]
  },
  {
   "cell_type": "code",
   "execution_count": 35,
   "metadata": {},
   "outputs": [],
   "source": [
    "sgd = SGDClassifier(max_iter = 250, tol = 1e-3)"
   ]
  },
  {
   "cell_type": "markdown",
   "metadata": {},
   "source": [
    "On increasing the number of iterations, the model overfits and the accuracy decreases. On decreasing the tolerance the model overfits."
   ]
  },
  {
   "cell_type": "code",
   "execution_count": 36,
   "metadata": {},
   "outputs": [
    {
     "data": {
      "text/plain": [
       "SGDClassifier(alpha=0.0001, average=False, class_weight=None,\n",
       "       early_stopping=False, epsilon=0.1, eta0=0.0, fit_intercept=True,\n",
       "       l1_ratio=0.15, learning_rate='optimal', loss='hinge', max_iter=250,\n",
       "       n_iter=None, n_iter_no_change=5, n_jobs=None, penalty='l2',\n",
       "       power_t=0.5, random_state=None, shuffle=True, tol=0.001,\n",
       "       validation_fraction=0.1, verbose=0, warm_start=False)"
      ]
     },
     "execution_count": 36,
     "metadata": {},
     "output_type": "execute_result"
    }
   ],
   "source": [
    "sgd.fit(x_train,y_train)"
   ]
  },
  {
   "cell_type": "code",
   "execution_count": 37,
   "metadata": {},
   "outputs": [
    {
     "data": {
      "text/plain": [
       "0.82"
      ]
     },
     "execution_count": 37,
     "metadata": {},
     "output_type": "execute_result"
    }
   ],
   "source": [
    "sgd.score(x_test,y_test)"
   ]
  },
  {
   "cell_type": "code",
   "execution_count": 38,
   "metadata": {},
   "outputs": [],
   "source": [
    "Y_pred_sgd = sgd.predict(x_test)"
   ]
  },
  {
   "cell_type": "code",
   "execution_count": 39,
   "metadata": {},
   "outputs": [
    {
     "data": {
      "text/plain": [
       "array([[ 9,  2],\n",
       "       [ 7, 32]])"
      ]
     },
     "execution_count": 39,
     "metadata": {},
     "output_type": "execute_result"
    }
   ],
   "source": [
    "confusion_matrix(y_test,Y_pred_sgd)"
   ]
  },
  {
   "cell_type": "markdown",
   "metadata": {},
   "source": [
    "# Classifying using tensorflow backend and neural network"
   ]
  },
  {
   "cell_type": "markdown",
   "metadata": {},
   "source": [
    "We see if we can improve the accuracy"
   ]
  },
  {
   "cell_type": "code",
   "execution_count": 40,
   "metadata": {},
   "outputs": [],
   "source": [
    "import tensorflow as tf"
   ]
  },
  {
   "cell_type": "code",
   "execution_count": 41,
   "metadata": {},
   "outputs": [],
   "source": [
    "x = tf.placeholder(tf.float32, shape = (None,300))\n",
    "y = tf.placeholder(tf.float32, shape = (None,2))"
   ]
  },
  {
   "cell_type": "code",
   "execution_count": 42,
   "metadata": {},
   "outputs": [
    {
     "name": "stdout",
     "output_type": "stream",
     "text": [
      "WARNING:tensorflow:From /usr/anaconda/lib/python3.7/site-packages/tensorflow/python/framework/op_def_library.py:263: colocate_with (from tensorflow.python.framework.ops) is deprecated and will be removed in a future version.\n",
      "Instructions for updating:\n",
      "Colocations handled automatically by placer.\n"
     ]
    }
   ],
   "source": [
    "weights ={\n",
    "    'hidden': tf.Variable(tf.random_normal([300,10], seed = 109)),\n",
    "    'output': tf.Variable(tf.random_normal([10,2],seed = 109))\n",
    "}"
   ]
  },
  {
   "cell_type": "code",
   "execution_count": 43,
   "metadata": {},
   "outputs": [
    {
     "data": {
      "text/plain": [
       "{'hidden': <tf.Variable 'Variable:0' shape=(300, 10) dtype=float32_ref>,\n",
       " 'output': <tf.Variable 'Variable_1:0' shape=(10, 2) dtype=float32_ref>}"
      ]
     },
     "execution_count": 43,
     "metadata": {},
     "output_type": "execute_result"
    }
   ],
   "source": [
    "weights"
   ]
  },
  {
   "cell_type": "code",
   "execution_count": 44,
   "metadata": {},
   "outputs": [],
   "source": [
    "biases ={\n",
    "    'hidden': tf.Variable(tf.random_normal([10], seed = 109)),\n",
    "    'output': tf.Variable(tf.random_normal([2],seed = 109))\n",
    "}"
   ]
  },
  {
   "cell_type": "code",
   "execution_count": 45,
   "metadata": {},
   "outputs": [
    {
     "data": {
      "text/plain": [
       "{'hidden': <tf.Variable 'Variable_2:0' shape=(10,) dtype=float32_ref>,\n",
       " 'output': <tf.Variable 'Variable_3:0' shape=(2,) dtype=float32_ref>}"
      ]
     },
     "execution_count": 45,
     "metadata": {},
     "output_type": "execute_result"
    }
   ],
   "source": [
    "biases"
   ]
  },
  {
   "cell_type": "code",
   "execution_count": 46,
   "metadata": {},
   "outputs": [],
   "source": [
    "hidden_layer = tf.add(tf.matmul(x, weights['hidden']),biases['hidden'])\n",
    "hidden_layer = tf.nn.relu(hidden_layer)"
   ]
  },
  {
   "cell_type": "code",
   "execution_count": 47,
   "metadata": {},
   "outputs": [],
   "source": [
    "output_layer = tf.add(tf.matmul(hidden_layer, weights['output']), biases['output'])"
   ]
  },
  {
   "cell_type": "code",
   "execution_count": 48,
   "metadata": {},
   "outputs": [
    {
     "name": "stdout",
     "output_type": "stream",
     "text": [
      "WARNING:tensorflow:From <ipython-input-48-b5159b5fcaf4>:1: softmax_cross_entropy_with_logits (from tensorflow.python.ops.nn_ops) is deprecated and will be removed in a future version.\n",
      "Instructions for updating:\n",
      "\n",
      "Future major versions of TensorFlow will allow gradients to flow\n",
      "into the labels input on backprop by default.\n",
      "\n",
      "See `tf.nn.softmax_cross_entropy_with_logits_v2`.\n",
      "\n"
     ]
    }
   ],
   "source": [
    "cost = tf.reduce_mean(tf.nn.softmax_cross_entropy_with_logits(logits = output_layer,labels =y))"
   ]
  },
  {
   "cell_type": "code",
   "execution_count": 49,
   "metadata": {},
   "outputs": [],
   "source": [
    "optimiser = tf.train.AdagradOptimizer(learning_rate = 0.1,name='Adagrad_avoid_overfitting').minimize(cost)"
   ]
  },
  {
   "cell_type": "code",
   "execution_count": 50,
   "metadata": {},
   "outputs": [],
   "source": [
    "correct_pred = tf.argmax(output_layer, 1)"
   ]
  },
  {
   "cell_type": "code",
   "execution_count": 51,
   "metadata": {},
   "outputs": [
    {
     "name": "stdout",
     "output_type": "stream",
     "text": [
      "WARNING:tensorflow:From /usr/anaconda/lib/python3.7/site-packages/tensorflow/python/ops/metrics_impl.py:455: to_float (from tensorflow.python.ops.math_ops) is deprecated and will be removed in a future version.\n",
      "Instructions for updating:\n",
      "Use tf.cast instead.\n"
     ]
    }
   ],
   "source": [
    "score, count = tf.metrics.accuracy(correct_pred, y_test)"
   ]
  },
  {
   "cell_type": "code",
   "execution_count": 52,
   "metadata": {},
   "outputs": [],
   "source": [
    "from sklearn.preprocessing import OneHotEncoder"
   ]
  },
  {
   "cell_type": "code",
   "execution_count": 53,
   "metadata": {},
   "outputs": [],
   "source": [
    "y_train = y_train.values.reshape(-1,1)"
   ]
  },
  {
   "cell_type": "code",
   "execution_count": 54,
   "metadata": {},
   "outputs": [
    {
     "data": {
      "text/plain": [
       "(200, 1)"
      ]
     },
     "execution_count": 54,
     "metadata": {},
     "output_type": "execute_result"
    }
   ],
   "source": [
    "y_train.shape"
   ]
  },
  {
   "cell_type": "code",
   "execution_count": 55,
   "metadata": {},
   "outputs": [
    {
     "name": "stderr",
     "output_type": "stream",
     "text": [
      "/usr/anaconda/lib/python3.7/site-packages/sklearn/preprocessing/_encoders.py:371: FutureWarning: The handling of integer data will change in version 0.22. Currently, the categories are determined based on the range [0, max(values)], while in the future they will be determined based on the unique values.\n",
      "If you want the future behaviour and silence this warning, you can specify \"categories='auto'\".\n",
      "In case you used a LabelEncoder before this OneHotEncoder to convert the categories to integers, then you can now use the OneHotEncoder directly.\n",
      "  warnings.warn(msg, FutureWarning)\n"
     ]
    },
    {
     "data": {
      "text/plain": [
       "(200, 2)"
      ]
     },
     "execution_count": 55,
     "metadata": {},
     "output_type": "execute_result"
    }
   ],
   "source": [
    "ohe = OneHotEncoder(sparse = False)\n",
    "y_train_encoded = ohe.fit_transform(y_train)\n",
    "y_train_encoded.shape"
   ]
  },
  {
   "cell_type": "code",
   "execution_count": 56,
   "metadata": {},
   "outputs": [
    {
     "data": {
      "text/plain": [
       "array([0., 0., 1., 0.])"
      ]
     },
     "execution_count": 56,
     "metadata": {},
     "output_type": "execute_result"
    }
   ],
   "source": [
    "y_train_encoded[0:4,0]"
   ]
  },
  {
   "cell_type": "code",
   "execution_count": 57,
   "metadata": {},
   "outputs": [],
   "source": [
    "import numpy as np\n",
    "y_train_encoded = np.ndarray.tolist(y_train_encoded)"
   ]
  },
  {
   "cell_type": "code",
   "execution_count": 70,
   "metadata": {},
   "outputs": [],
   "source": [
    "saver = tf.train.Saver()"
   ]
  },
  {
   "cell_type": "code",
   "execution_count": 71,
   "metadata": {},
   "outputs": [
    {
     "name": "stdout",
     "output_type": "stream",
     "text": [
      "[0 1 1 1 0 1 1 1 0 0 1 0 0 0 1 0 0 1 0 1 1 0 0 1 1 1 1 0 1 1 0 0 1 1 0 1 0\n",
      " 1 0 1 1 0 1 0 0 1 1 0 0 0]\n",
      "loss:  1.3330085\n",
      "[0 1 1 1 0 1 1 1 0 0 1 0 1 0 1 0 0 1 0 1 1 0 0 1 1 1 1 0 1 1 0 0 1 1 0 1 0\n",
      " 1 0 1 1 0 1 0 0 1 1 0 0 0]\n",
      "loss:  0.46910858\n",
      "[0 1 1 1 0 1 1 1 0 0 1 0 1 0 1 0 0 1 0 1 1 0 0 1 1 1 1 0 1 1 0 0 1 1 0 1 0\n",
      " 1 0 1 1 0 1 0 0 1 1 0 0 0]\n",
      "loss:  0.21778427\n",
      "[0 1 1 1 0 1 1 1 0 0 1 0 1 0 1 0 0 1 0 1 1 0 0 1 1 1 1 0 1 1 0 0 1 1 0 1 0\n",
      " 1 0 1 1 0 1 0 0 1 1 0 0 1]\n",
      "loss:  0.11042016\n",
      "[0 1 1 1 0 1 1 1 0 1 1 0 1 0 1 0 0 1 0 1 1 0 0 1 1 1 1 0 1 1 0 0 1 1 0 1 0\n",
      " 1 0 1 1 0 1 0 0 1 1 0 1 1]\n",
      "loss:  0.071669884\n",
      "[0 1 1 1 0 1 1 1 0 1 1 0 1 0 1 0 0 1 0 1 1 0 0 1 1 1 1 0 1 1 0 0 1 1 0 1 0\n",
      " 1 0 1 1 0 1 0 0 1 1 0 1 1]\n",
      "loss:  0.05292884\n",
      "[0 1 1 1 0 0 1 1 0 1 1 0 1 0 1 0 0 1 0 1 1 0 0 1 1 1 1 0 1 1 0 0 1 1 0 1 0\n",
      " 1 0 1 1 0 1 0 0 1 1 0 1 1]\n",
      "loss:  0.04255137\n",
      "[0 1 1 1 0 0 1 1 0 1 1 0 1 0 1 0 0 1 0 1 1 0 0 1 1 1 1 0 1 1 0 0 1 1 0 1 0\n",
      " 1 0 1 1 0 1 0 0 1 1 0 1 1]\n",
      "loss:  0.03617216\n",
      "[0 1 1 1 0 0 1 1 0 1 1 0 1 0 1 0 0 1 0 1 1 0 0 1 1 1 1 0 1 1 0 0 1 1 0 1 0\n",
      " 1 0 1 1 0 1 0 0 1 1 0 1 1]\n",
      "loss:  0.0323036\n",
      "[0 1 1 1 0 0 1 1 0 1 1 0 1 0 1 0 0 1 0 1 1 0 0 1 1 1 1 0 1 1 0 0 1 1 0 1 0\n",
      " 1 0 1 1 0 1 0 0 1 1 0 1 1]\n",
      "loss:  0.02962109\n",
      "[0 1 1 1 0 0 1 1 0 1 1 0 1 0 1 0 0 1 0 1 1 0 0 1 1 1 1 0 1 1 0 0 1 1 0 1 0\n",
      " 1 0 1 1 0 1 0 0 1 1 0 1 1]\n",
      "loss:  0.02752001\n",
      "[0 1 1 1 0 0 1 1 0 1 1 0 1 0 1 0 0 1 0 1 1 0 0 1 1 1 1 0 1 1 0 0 1 1 0 1 0\n",
      " 1 0 1 1 0 1 0 0 1 1 0 1 1]\n",
      "loss:  0.025802484\n",
      "[0 1 1 1 0 0 1 1 0 1 1 0 1 0 1 0 0 1 0 1 1 0 0 1 1 1 1 0 1 1 0 0 1 1 0 1 0\n",
      " 1 0 1 1 0 1 0 0 1 1 0 1 1]\n",
      "loss:  0.024357373\n",
      "[0 1 1 1 0 0 1 1 0 1 1 0 1 0 1 0 0 1 0 1 1 0 0 1 1 1 1 0 1 1 0 0 1 1 0 1 0\n",
      " 1 0 1 1 0 1 0 0 1 1 0 1 1]\n",
      "loss:  0.02312151\n",
      "[0 1 1 1 0 0 1 1 0 1 1 0 1 0 1 0 0 1 0 1 1 0 0 1 1 1 1 0 1 1 0 0 1 1 0 1 0\n",
      " 1 0 1 1 0 1 0 0 1 1 0 1 1]\n",
      "loss:  0.022049103\n",
      "[0 1 1 1 0 0 1 1 0 1 1 0 1 0 1 0 0 1 0 1 1 0 0 1 1 1 1 0 1 1 0 0 1 1 0 1 0\n",
      " 1 0 1 1 0 1 0 0 1 1 0 1 1]\n",
      "loss:  0.021111026\n",
      "[0 1 1 1 0 0 1 1 0 1 1 0 1 0 1 0 0 1 0 1 1 0 0 1 1 1 1 0 1 1 0 0 1 1 0 1 0\n",
      " 1 0 1 1 0 1 0 0 1 1 0 1 1]\n",
      "loss:  0.020286016\n",
      "[0 1 1 1 0 0 1 1 0 1 1 0 1 0 1 0 0 1 0 1 1 0 0 1 1 1 1 0 1 1 0 0 1 1 0 1 0\n",
      " 1 0 1 1 0 1 0 0 1 1 0 1 1]\n",
      "loss:  0.01950032\n",
      "[0 1 1 1 0 0 1 1 0 1 1 0 1 0 1 0 0 1 0 1 1 0 0 1 1 1 1 0 1 1 0 0 1 1 0 1 0\n",
      " 1 0 1 1 0 1 0 0 1 1 0 1 1]\n",
      "loss:  0.018687664\n",
      "[0 1 1 1 0 0 1 1 0 1 1 0 1 0 1 0 0 1 0 1 1 0 0 1 1 1 1 0 1 1 0 0 1 1 0 1 0\n",
      " 1 0 1 1 0 1 0 0 1 1 0 1 1]\n",
      "loss:  0.018112851\n",
      "[0 1 1 1 0 0 1 1 0 1 1 0 1 0 1 0 0 1 0 1 1 0 0 1 1 1 1 0 1 1 0 0 1 1 0 1 0\n",
      " 1 0 1 1 0 1 0 0 1 1 0 1 1]\n",
      "loss:  0.017597608\n",
      "[0 1 1 1 0 0 1 1 0 1 1 0 1 0 1 0 0 1 0 1 1 0 0 1 1 1 1 0 1 1 0 0 1 1 0 1 0\n",
      " 1 0 1 1 0 1 0 0 1 1 0 1 1]\n",
      "loss:  0.01713183\n",
      "[0 1 1 1 0 0 1 1 0 1 1 0 1 0 1 0 0 1 0 1 1 0 0 1 1 1 1 0 1 1 0 0 1 1 0 1 0\n",
      " 1 0 1 1 0 1 0 0 1 1 0 1 1]\n",
      "loss:  0.01670717\n",
      "[0 1 1 1 0 0 1 1 0 1 1 0 1 0 1 0 0 1 0 1 1 0 0 1 1 1 1 0 1 1 0 0 1 1 0 1 0\n",
      " 1 0 1 1 0 1 0 0 1 1 0 1 1]\n",
      "loss:  0.016318183\n",
      "[0 1 1 1 0 0 1 1 0 1 1 0 1 0 1 0 0 1 0 1 1 0 0 1 1 1 1 0 1 1 0 0 1 1 0 1 0\n",
      " 1 0 1 1 0 1 0 0 1 1 0 1 1]\n",
      "loss:  0.01595927\n",
      "[0 1 1 1 0 0 1 1 0 1 1 0 1 0 1 0 0 1 0 1 1 0 0 1 1 1 1 0 1 1 0 0 1 1 0 1 0\n",
      " 1 0 1 1 0 1 0 0 1 1 0 1 1]\n",
      "loss:  0.01562676\n",
      "[0 1 1 1 0 0 1 1 0 1 1 0 1 0 1 0 0 1 0 1 1 0 0 1 1 1 1 0 1 1 0 0 1 1 0 1 0\n",
      " 1 0 1 1 0 1 0 0 1 1 0 1 1]\n",
      "loss:  0.01531638\n",
      "[0 1 1 1 0 0 1 1 0 1 1 0 1 0 1 0 0 1 0 1 1 0 0 1 1 1 1 0 1 1 0 0 1 1 0 1 0\n",
      " 1 0 1 1 0 1 0 0 1 1 0 1 1]\n",
      "loss:  0.015025816\n",
      "[0 1 1 1 0 0 1 1 0 1 1 0 1 0 1 0 0 1 0 1 1 0 0 1 1 1 1 0 1 1 0 0 1 1 0 1 0\n",
      " 1 0 1 1 0 1 0 0 1 1 0 1 1]\n",
      "loss:  0.014752468\n",
      "[0 1 1 1 0 0 1 1 0 1 1 0 1 0 1 0 0 1 0 1 1 0 0 1 1 1 1 0 1 1 0 0 1 1 0 1 0\n",
      " 1 0 1 1 0 1 0 0 1 1 0 1 1]\n",
      "loss:  0.014494968\n",
      "[0 1 1 1 0 0 1 1 0 1 1 0 1 0 1 0 0 1 0 1 1 0 0 1 1 1 1 0 1 1 0 0 1 1 0 1 0\n",
      " 1 0 1 1 0 1 0 0 1 1 0 1 1]\n",
      "loss:  0.014250381\n",
      "[0 1 1 1 0 0 1 1 0 1 1 0 1 0 1 0 0 1 0 1 1 0 0 1 1 1 1 0 1 1 0 0 1 1 0 1 0\n",
      " 1 0 1 1 0 1 0 0 1 1 0 1 1]\n",
      "loss:  0.014018475\n",
      "[0 1 1 1 0 0 1 1 0 1 1 0 1 0 1 0 0 1 0 1 1 0 0 1 1 1 1 0 1 1 0 0 1 1 0 1 0\n",
      " 1 0 1 1 0 1 0 0 1 1 0 1 1]\n",
      "loss:  0.013795865\n",
      "[0 1 1 1 0 0 1 1 0 1 1 0 1 0 1 0 0 1 0 1 1 0 0 1 1 1 1 0 1 1 0 0 1 1 0 1 0\n",
      " 1 0 1 1 0 1 0 0 1 1 0 1 1]\n",
      "loss:  0.013582797\n",
      "[0 1 1 1 0 0 1 1 0 1 1 0 1 0 1 0 0 1 0 1 1 0 0 1 1 1 1 0 1 1 0 0 1 1 0 1 0\n",
      " 1 0 1 1 0 1 0 0 1 1 0 1 1]\n",
      "loss:  0.013378173\n",
      "[0 1 1 1 0 0 1 1 0 1 1 0 1 0 1 0 0 1 0 1 1 0 0 1 1 1 1 0 1 1 0 0 1 1 0 1 0\n",
      " 1 0 1 1 0 1 0 0 1 1 0 1 1]\n",
      "loss:  0.013181238\n",
      "[0 1 1 1 0 0 1 1 0 1 1 0 1 0 1 0 0 1 0 1 1 0 0 1 1 1 1 0 1 1 0 0 1 1 0 1 0\n",
      " 1 0 1 1 0 1 0 0 1 1 0 1 1]\n",
      "loss:  0.01299147\n",
      "[0 1 1 1 0 0 1 1 0 1 1 0 1 0 1 0 0 1 0 1 1 0 0 1 1 1 1 0 1 1 0 0 1 1 0 1 0\n",
      " 1 0 1 1 0 1 0 0 1 1 0 1 1]\n",
      "loss:  0.01280832\n",
      "[0 1 1 1 0 0 1 1 0 1 1 0 1 0 1 0 0 1 0 1 1 0 0 1 1 1 1 0 1 1 0 0 1 1 0 1 0\n",
      " 1 0 1 1 0 1 0 0 1 1 0 1 1]\n",
      "loss:  0.012631331\n",
      "[0 1 1 1 0 0 1 1 0 1 1 0 1 0 1 0 0 1 0 1 1 0 0 1 1 1 1 0 1 1 0 0 1 1 0 1 0\n",
      " 1 0 1 1 0 1 0 0 1 1 0 1 1]\n",
      "loss:  0.012460171\n",
      "[0 1 1 1 0 0 1 1 0 1 1 0 1 0 1 0 0 1 0 1 1 0 0 1 1 1 1 0 1 1 0 0 1 1 0 1 0\n",
      " 1 0 1 1 0 1 0 0 1 1 0 1 1]\n",
      "loss:  0.012294579\n",
      "[0 1 1 1 0 0 1 1 0 1 1 0 1 0 1 0 0 1 0 1 1 0 0 1 1 1 1 0 1 1 0 0 1 1 0 1 0\n",
      " 1 0 1 1 0 1 0 0 1 1 0 1 1]\n",
      "loss:  0.012134183\n",
      "[0 1 1 1 0 0 1 1 0 1 1 0 1 0 1 0 0 1 0 1 1 0 0 1 1 1 1 0 1 1 0 0 1 1 0 1 0\n",
      " 1 0 1 1 0 1 0 0 1 1 0 1 1]\n",
      "loss:  0.011978906\n",
      "[0 1 1 1 0 0 1 1 0 1 1 0 1 0 1 0 0 1 0 1 1 0 0 1 1 1 1 0 1 1 0 0 1 1 0 1 0\n",
      " 1 0 1 1 0 1 0 0 1 1 0 1 1]\n",
      "loss:  0.011828456\n",
      "[0 1 1 1 0 0 1 1 0 1 1 0 1 0 1 0 0 1 0 1 1 0 0 1 1 1 1 0 1 1 0 0 1 1 0 1 0\n",
      " 1 0 1 1 0 1 0 0 1 1 0 1 1]\n",
      "loss:  0.011682881\n",
      "[0 1 1 1 0 0 1 1 0 1 1 0 1 0 1 0 0 1 0 1 1 0 0 1 1 1 1 0 1 1 0 0 1 1 0 1 0\n",
      " 1 0 1 1 0 1 0 0 1 1 0 1 1]\n",
      "loss:  0.011555311\n",
      "[0 1 1 1 0 0 1 1 0 1 1 0 1 0 1 0 0 1 0 1 1 0 0 1 1 1 1 0 1 1 0 0 1 1 0 1 0\n",
      " 1 0 1 1 0 1 0 0 1 1 0 1 1]\n",
      "loss:  0.01148314\n",
      "[0 1 1 1 0 0 1 1 0 1 1 0 1 0 1 0 0 1 0 1 1 0 0 1 1 1 1 0 1 1 0 0 1 1 0 1 0\n",
      " 1 0 1 1 0 1 0 0 1 1 0 1 1]\n",
      "loss:  0.011415353\n",
      "[0 1 1 1 0 0 1 1 0 1 1 0 1 0 1 0 0 1 0 1 1 0 0 1 1 1 1 0 1 1 0 0 1 1 0 1 0\n",
      " 1 0 1 1 0 1 0 0 1 1 0 1 1]\n",
      "loss:  0.011351663\n",
      "[0 1 1 1 0 0 1 1 0 1 1 0 1 0 1 0 0 1 0 1 1 0 0 1 1 1 1 0 1 1 0 0 1 1 0 1 0\n",
      " 1 0 1 1 0 1 0 0 1 1 0 1 1]\n",
      "loss:  0.0112915775\n",
      "[0 1 1 1 0 0 1 1 0 1 1 0 1 0 1 0 0 1 0 1 1 0 0 1 1 1 1 0 1 1 0 0 1 1 0 1 0\n",
      " 1 0 1 1 0 1 0 0 1 1 0 1 1]\n",
      "loss:  0.011234892\n",
      "[0 1 1 1 0 0 1 1 0 1 1 0 1 0 1 0 0 1 0 1 1 0 0 1 1 1 1 0 1 1 0 0 1 1 0 1 0\n",
      " 1 0 1 1 0 1 0 0 1 1 0 1 1]\n",
      "loss:  0.011181292\n",
      "[0 1 1 1 0 0 1 1 0 1 1 0 1 0 1 0 0 1 0 1 1 0 0 1 1 1 1 0 1 1 0 0 1 1 0 1 0\n",
      " 1 0 1 1 0 1 0 0 1 1 0 1 1]\n",
      "loss:  0.011130538\n",
      "[0 1 1 1 0 0 1 1 0 1 1 0 1 0 1 0 0 1 0 1 1 0 0 1 1 1 1 0 1 1 0 0 1 1 0 1 0\n",
      " 1 0 1 1 0 1 0 0 1 1 0 1 1]\n",
      "loss:  0.011082475\n",
      "[0 1 1 1 0 0 1 1 0 1 1 0 1 0 1 0 0 1 0 1 1 0 0 1 1 1 1 0 1 1 0 0 1 1 0 1 0\n",
      " 1 0 1 1 0 1 0 0 1 1 0 1 1]\n",
      "loss:  0.011036839\n",
      "[0 1 1 1 0 0 1 1 0 1 1 0 1 0 1 0 0 1 0 1 1 0 0 1 1 1 1 0 1 1 0 0 1 1 0 1 0\n",
      " 1 0 1 1 0 1 0 0 1 1 0 1 1]\n",
      "loss:  0.010993507\n",
      "[0 1 1 1 0 0 1 1 0 1 1 0 1 0 1 0 0 1 0 1 1 0 0 1 1 1 1 0 1 1 0 0 1 1 0 1 0\n",
      " 1 0 1 1 0 1 0 0 1 1 0 1 1]\n",
      "loss:  0.010952365\n",
      "[0 1 1 1 0 0 1 1 0 1 1 0 1 0 1 0 0 1 0 1 1 0 0 1 1 1 1 0 1 1 0 0 1 1 0 1 0\n",
      " 1 0 1 1 0 1 0 0 1 1 0 1 1]\n",
      "loss:  0.010913158\n",
      "[0 1 1 1 0 0 1 1 0 1 1 0 1 0 1 0 0 1 0 1 1 0 0 1 1 1 1 0 1 1 0 0 1 1 0 1 0\n",
      " 1 0 1 1 0 1 0 0 1 1 0 1 1]\n",
      "loss:  0.010875804\n",
      "[0 1 1 1 0 0 1 1 0 1 1 0 1 0 1 0 0 1 0 1 1 0 0 1 1 1 1 0 1 1 0 0 1 1 0 1 0\n",
      " 1 0 1 1 0 1 0 0 1 1 0 1 1]\n",
      "loss:  0.0108403275\n",
      "[0 1 1 1 0 0 1 1 0 1 1 0 1 0 1 0 0 1 0 1 1 0 0 1 1 1 1 0 1 1 0 0 1 1 0 1 0\n",
      " 1 0 1 1 0 1 0 0 1 1 0 1 1]\n",
      "loss:  0.010806406\n",
      "[0 1 1 1 0 0 1 1 0 1 1 0 1 0 1 0 0 1 0 1 1 0 0 1 1 1 1 0 1 1 0 0 1 1 0 1 0\n",
      " 1 0 1 1 0 1 0 0 1 1 0 1 1]\n",
      "loss:  0.010774012\n",
      "[0 1 1 1 0 0 1 1 0 1 1 0 1 0 1 0 0 1 0 1 1 0 0 1 1 1 1 0 1 1 0 0 1 1 0 1 0\n",
      " 1 0 1 1 0 1 0 0 1 1 0 1 1]\n",
      "loss:  0.010743061\n",
      "[0 1 1 1 0 0 1 1 0 1 1 0 1 0 1 0 0 1 0 1 1 0 0 1 1 1 1 0 1 1 0 0 1 1 0 1 0\n",
      " 1 0 1 1 0 1 0 0 1 1 0 1 1]\n",
      "loss:  0.0107136\n",
      "[0 1 1 1 0 0 1 1 0 1 1 0 1 0 1 0 0 1 0 1 1 0 0 1 1 1 1 0 1 1 0 0 1 1 0 1 0\n",
      " 1 0 1 1 0 1 0 0 1 1 0 1 1]\n",
      "loss:  0.010685224\n",
      "[0 1 1 1 0 0 1 1 0 1 1 0 1 0 1 0 0 1 0 1 1 0 0 1 1 1 1 0 1 1 0 0 1 1 0 1 0\n",
      " 1 0 1 1 0 1 0 0 1 1 0 1 1]\n",
      "loss:  0.010658031\n",
      "[0 1 1 1 0 0 1 1 0 1 1 0 1 0 1 0 0 1 0 1 1 0 0 1 1 1 1 0 1 1 0 0 1 1 0 1 0\n",
      " 1 0 1 1 0 1 0 0 1 1 0 1 1]\n",
      "loss:  0.01063196\n",
      "[0 1 1 1 0 0 1 1 0 1 1 0 1 0 1 0 0 1 0 1 1 0 0 1 1 1 1 0 1 1 0 0 1 1 0 1 0\n",
      " 1 0 1 1 0 1 0 0 1 1 0 1 1]\n",
      "loss:  0.010606988\n"
     ]
    },
    {
     "name": "stdout",
     "output_type": "stream",
     "text": [
      "[0 1 1 1 0 0 1 1 0 1 1 0 1 0 1 0 0 1 0 1 1 0 0 1 1 1 1 0 1 1 0 0 1 1 0 1 0\n",
      " 1 0 1 1 0 1 0 0 1 1 0 1 1]\n",
      "loss:  0.01058295\n",
      "[0 1 1 1 0 0 1 1 0 1 1 0 1 0 1 0 0 1 0 1 1 0 0 1 1 1 1 0 1 1 0 0 1 1 0 1 0\n",
      " 1 0 1 1 0 1 0 0 1 1 0 1 1]\n",
      "loss:  0.01055987\n",
      "[0 1 1 1 0 0 1 1 0 1 1 0 1 0 1 0 0 1 0 1 1 0 0 1 1 1 1 0 1 1 0 0 1 1 0 1 0\n",
      " 1 0 1 1 0 1 0 0 1 1 0 1 1]\n",
      "loss:  0.010537671\n",
      "[0 1 1 1 0 0 1 1 0 1 1 0 1 0 1 0 0 1 0 1 1 0 0 1 1 1 1 0 1 1 0 0 1 1 0 1 0\n",
      " 1 0 1 1 0 1 0 0 1 1 0 1 1]\n",
      "loss:  0.010516354\n",
      "[0 1 1 1 0 0 1 1 0 1 1 0 1 0 1 0 0 1 0 1 1 0 0 1 1 1 1 0 1 1 0 0 1 1 0 1 0\n",
      " 1 0 1 1 0 1 0 0 1 1 0 1 1]\n",
      "loss:  0.010496016\n",
      "[0 1 1 1 0 0 1 1 0 1 1 0 1 0 1 0 0 1 0 1 1 0 0 1 1 1 1 0 1 1 0 0 1 1 0 1 0\n",
      " 1 0 1 1 0 1 0 0 1 1 0 1 1]\n",
      "loss:  0.01047619\n",
      "[0 1 1 1 0 0 1 1 0 1 1 0 1 0 1 0 0 1 0 1 1 0 0 1 1 1 1 0 1 1 0 0 1 1 0 1 0\n",
      " 1 0 1 1 0 1 0 0 1 1 0 1 1]\n",
      "loss:  0.0104570845\n",
      "[0 1 1 1 0 0 1 1 0 1 1 0 1 0 1 0 0 1 0 1 1 0 0 1 1 1 1 0 1 1 0 0 1 1 0 1 0\n",
      " 1 0 1 1 0 1 0 0 1 1 0 1 1]\n",
      "loss:  0.010438655\n",
      "[0 1 1 1 0 0 1 1 0 1 1 0 1 0 1 0 0 1 0 1 1 0 0 1 1 1 1 0 1 1 0 0 1 1 0 1 0\n",
      " 1 0 1 1 0 1 0 0 1 1 0 1 1]\n",
      "loss:  0.010421288\n",
      "[0 1 1 1 0 0 1 1 0 1 1 0 1 0 1 0 0 1 0 1 1 0 0 1 1 1 1 0 1 1 0 0 1 1 0 1 0\n",
      " 1 0 1 1 0 1 0 0 1 1 0 1 1]\n",
      "loss:  0.010404105\n",
      "[0 1 1 1 0 0 1 1 0 1 1 0 1 0 1 0 0 1 0 1 1 0 0 1 1 1 1 0 1 1 0 0 1 1 0 1 0\n",
      " 1 0 1 1 0 1 0 0 1 1 0 1 1]\n",
      "loss:  0.010387514\n",
      "[0 1 1 1 0 0 1 1 0 1 1 0 1 0 1 0 0 1 0 1 1 0 0 1 1 1 1 0 1 1 0 0 1 1 0 1 0\n",
      " 1 0 1 1 0 1 0 0 1 1 0 1 1]\n",
      "loss:  0.010371471\n",
      "[0 1 1 1 0 0 1 1 0 1 1 0 1 0 1 0 0 1 0 1 1 0 0 1 1 1 1 0 1 1 0 0 1 1 0 1 0\n",
      " 1 0 1 1 0 1 0 0 1 1 0 1 1]\n",
      "loss:  0.010355974\n",
      "[0 1 1 1 0 0 1 1 0 1 1 0 1 0 1 0 0 1 0 1 1 0 0 1 1 1 1 0 1 1 0 0 1 1 0 1 0\n",
      " 1 0 1 1 0 1 0 0 1 1 0 1 1]\n",
      "loss:  0.010340975\n",
      "[0 1 1 1 0 0 1 1 0 1 1 0 1 0 1 0 0 1 0 1 1 0 0 1 1 1 1 0 1 1 0 0 1 1 0 1 0\n",
      " 1 0 1 1 0 1 0 0 1 1 0 1 1]\n",
      "loss:  0.010326505\n",
      "[0 1 1 1 0 0 1 1 0 1 1 0 1 0 1 0 0 1 0 1 1 0 0 1 1 1 1 0 1 1 0 0 1 1 0 1 0\n",
      " 1 0 1 1 0 1 0 0 1 1 0 1 1]\n",
      "loss:  0.010312464\n",
      "[0 1 1 1 0 0 1 1 0 1 1 0 1 0 1 0 0 1 0 1 1 0 0 1 1 1 1 0 1 1 0 0 1 1 0 1 0\n",
      " 1 0 1 1 0 1 0 0 1 1 0 1 1]\n",
      "loss:  0.010298853\n",
      "[0 1 1 1 0 0 1 1 0 1 1 0 1 0 1 0 0 1 0 1 1 0 0 1 1 1 1 0 1 1 0 0 1 1 0 1 0\n",
      " 1 0 1 1 0 1 0 0 1 1 0 1 1]\n",
      "loss:  0.010285666\n",
      "[0 1 1 1 0 0 1 1 0 1 1 0 1 0 1 0 0 1 0 1 1 0 0 1 1 1 1 0 1 1 0 0 1 1 0 1 0\n",
      " 1 0 1 1 0 1 0 0 1 1 0 1 1]\n",
      "loss:  0.010272885\n",
      "[0 1 1 1 0 0 1 1 0 1 1 0 1 0 1 0 0 1 0 1 1 0 0 1 1 1 1 0 1 1 0 0 1 1 0 1 0\n",
      " 1 0 1 1 0 1 0 0 1 1 0 1 1]\n",
      "loss:  0.010260488\n",
      "[0 1 1 1 0 0 1 1 0 1 1 0 1 0 1 0 0 1 0 1 1 0 0 1 1 1 1 0 1 1 0 0 1 1 0 1 0\n",
      " 1 0 1 1 0 1 0 0 1 1 0 1 1]\n",
      "loss:  0.010248464\n",
      "[0 1 1 1 0 0 1 1 0 1 1 0 1 0 1 0 0 1 0 1 1 0 0 1 1 1 1 0 1 1 0 0 1 1 0 1 0\n",
      " 1 0 1 1 0 1 0 0 1 1 0 1 1]\n",
      "loss:  0.010236837\n",
      "[0 1 1 1 0 0 1 1 0 1 1 0 1 0 1 0 0 1 0 1 1 0 0 1 1 1 1 0 1 1 0 0 1 1 0 1 0\n",
      " 1 0 1 1 0 1 0 0 1 1 0 1 1]\n",
      "loss:  0.010225507\n",
      "[0 1 1 1 0 0 1 1 0 1 1 0 1 0 1 0 0 1 0 1 1 0 0 1 1 1 1 0 1 1 0 0 1 1 0 1 0\n",
      " 1 0 1 1 0 1 0 0 1 1 0 1 1]\n",
      "loss:  0.010214502\n",
      "[0 1 1 1 0 0 1 1 0 1 1 0 1 0 1 0 0 1 0 1 1 0 0 1 1 1 1 0 1 1 0 0 1 1 0 1 0\n",
      " 1 0 1 1 0 1 0 0 1 1 0 1 1]\n",
      "loss:  0.010203809\n",
      "[0 1 1 1 0 0 1 1 0 1 1 0 1 0 1 0 0 1 0 1 1 0 0 1 1 1 1 0 1 1 0 0 1 1 0 1 0\n",
      " 1 0 1 1 0 1 0 0 1 1 0 1 1]\n",
      "loss:  0.010193492\n",
      "[0 1 1 1 0 0 1 1 0 1 1 0 1 0 1 0 0 1 0 1 1 0 0 1 1 1 1 0 1 1 0 0 1 1 0 1 0\n",
      " 1 0 1 1 0 1 0 0 1 1 0 1 1]\n",
      "loss:  0.010183388\n",
      "[0 1 1 1 0 0 1 1 0 1 1 0 1 0 1 0 0 1 0 1 1 0 0 1 1 1 1 0 1 1 0 0 1 1 0 1 0\n",
      " 1 0 1 1 0 1 0 0 1 1 0 1 1]\n",
      "loss:  0.010173562\n",
      "[0 1 1 1 0 0 1 1 0 1 1 0 1 0 1 0 0 1 0 1 1 0 0 1 1 1 1 0 1 1 0 0 1 1 0 1 0\n",
      " 1 0 1 1 0 1 0 0 1 1 0 1 1]\n",
      "loss:  0.010164001\n",
      "[0 1 1 1 0 0 1 1 0 1 1 0 1 0 1 0 0 1 0 1 1 0 0 1 1 1 1 0 1 1 0 0 1 1 0 1 0\n",
      " 1 0 1 1 0 1 0 0 1 1 0 1 1]\n",
      "loss:  0.0101547325\n",
      "[0 1 1 1 0 0 1 1 0 1 1 0 1 0 1 0 0 1 0 1 1 0 0 1 1 1 1 0 1 1 0 0 1 1 0 1 0\n",
      " 1 0 1 1 0 1 0 0 1 1 0 1 1]\n",
      "loss:  0.010145677\n",
      "[0 1 1 1 0 0 1 1 0 1 1 0 1 0 1 0 0 1 0 1 1 0 0 1 1 1 1 0 1 1 0 0 1 1 0 1 0\n",
      " 1 0 1 1 0 1 0 0 1 1 0 1 1]\n",
      "loss:  0.010136859\n",
      "[0 1 1 1 0 0 1 1 0 1 1 0 1 0 1 0 0 1 0 1 1 0 0 1 1 1 1 0 1 1 0 0 1 1 0 1 0\n",
      " 1 0 1 1 0 1 0 0 1 1 0 1 1]\n",
      "loss:  0.010128271\n",
      "[0 1 1 1 0 0 1 1 0 1 1 0 1 0 1 0 0 1 0 1 1 0 0 1 1 1 1 0 1 1 0 0 1 1 0 1 0\n",
      " 1 0 1 1 0 1 0 0 1 1 0 1 1]\n",
      "loss:  0.0101200845\n",
      "[0 1 1 1 0 0 1 1 0 1 1 0 1 0 1 0 0 1 0 1 1 0 0 1 1 1 1 0 1 1 0 0 1 1 0 1 0\n",
      " 1 0 1 1 0 1 0 0 1 1 0 1 1]\n",
      "loss:  0.010111921\n",
      "[0 1 1 1 0 0 1 1 0 1 1 0 1 0 1 0 0 1 0 1 1 0 0 1 1 1 1 0 1 1 0 0 1 1 0 1 0\n",
      " 1 0 1 1 0 1 0 0 1 1 0 1 1]\n",
      "loss:  0.010103974\n",
      "[0 1 1 1 0 0 1 1 0 1 1 0 1 0 1 0 0 1 0 1 1 0 0 1 1 1 1 0 1 1 0 0 1 1 0 1 0\n",
      " 1 0 1 1 0 1 0 0 1 1 0 1 1]\n",
      "loss:  0.010096219\n",
      "[0 1 1 1 0 0 1 1 0 1 1 0 1 0 1 0 0 1 0 1 1 0 0 1 1 1 1 0 1 1 0 0 1 1 0 1 0\n",
      " 1 0 1 1 0 1 0 0 1 1 0 1 1]\n",
      "loss:  0.010088656\n",
      "[0 1 1 1 0 0 1 1 0 1 1 0 1 0 1 0 0 1 0 1 1 0 0 1 1 1 1 0 1 1 0 0 1 1 0 1 0\n",
      " 1 0 1 1 0 1 0 0 1 1 0 1 1]\n",
      "loss:  0.01008131\n",
      "[0 1 1 1 0 0 1 1 0 1 1 0 1 0 1 0 0 1 0 1 1 0 0 1 1 1 1 0 1 1 0 0 1 1 0 1 0\n",
      " 1 0 1 1 0 1 0 0 1 1 0 1 1]\n",
      "loss:  0.010074117\n",
      "[0 1 1 1 0 0 1 1 0 1 1 0 1 0 1 0 0 1 0 1 1 0 0 1 1 1 1 0 1 1 0 0 1 1 0 1 0\n",
      " 1 0 1 1 0 1 0 0 1 1 0 1 1]\n",
      "loss:  0.010067087\n",
      "[0 1 1 1 0 0 1 1 0 1 1 0 1 0 1 0 0 1 0 1 1 0 0 1 1 1 1 0 1 1 0 0 1 1 0 1 0\n",
      " 1 0 1 1 0 1 0 0 1 1 0 1 1]\n",
      "loss:  0.010060222\n",
      "[0 1 1 1 0 0 1 1 0 1 1 0 1 0 1 0 0 1 0 1 1 0 0 1 1 1 1 0 1 1 0 0 1 1 0 1 0\n",
      " 1 0 1 1 0 1 0 0 1 1 0 1 1]\n",
      "loss:  0.010053524\n",
      "[0 1 1 1 0 0 1 1 0 1 1 0 1 0 1 0 0 1 0 1 1 0 0 1 1 1 1 0 1 1 0 0 1 1 0 1 0\n",
      " 1 0 1 1 0 1 0 0 1 1 0 1 1]\n",
      "loss:  0.010046976\n",
      "[0 1 1 1 0 0 1 1 0 1 1 0 1 0 1 0 0 1 0 1 1 0 0 1 1 1 1 0 1 1 0 0 1 1 0 1 0\n",
      " 1 0 1 1 0 1 0 0 1 1 0 1 1]\n",
      "loss:  0.010040586\n",
      "[0 1 1 1 0 0 1 1 0 1 1 0 1 0 1 0 0 1 0 1 1 0 0 1 1 1 1 0 1 1 0 0 1 1 0 1 0\n",
      " 1 0 1 1 0 1 0 0 1 1 0 1 1]\n",
      "loss:  0.010034334\n",
      "[0 1 1 1 0 0 1 1 0 1 1 0 1 0 1 0 0 1 0 1 1 0 0 1 1 1 1 0 1 1 0 0 1 1 0 1 0\n",
      " 1 0 1 1 0 1 0 0 1 1 0 1 1]\n",
      "loss:  0.010028224\n",
      "[0 1 1 1 0 0 1 1 0 1 1 0 1 0 1 0 0 1 0 1 1 0 0 1 1 1 1 0 1 1 0 0 1 1 0 1 0\n",
      " 1 0 1 1 0 1 0 0 1 1 0 1 1]\n",
      "loss:  0.010022254\n",
      "[0 1 1 1 0 0 1 1 0 1 1 0 1 0 1 0 0 1 0 1 1 0 0 1 1 1 1 0 1 1 0 0 1 1 0 1 0\n",
      " 1 0 1 1 0 1 0 0 1 1 0 1 1]\n",
      "loss:  0.010016449\n",
      "[0 1 1 1 0 0 1 1 0 1 1 0 1 0 1 0 0 1 0 1 1 0 0 1 1 1 1 0 1 1 0 0 1 1 0 1 0\n",
      " 1 0 1 1 0 1 0 0 1 1 0 1 1]\n",
      "loss:  0.010010729\n",
      "[0 1 1 1 0 0 1 1 0 1 1 0 1 0 1 0 0 1 0 1 1 0 0 1 1 1 1 0 1 1 0 0 1 1 0 1 0\n",
      " 1 0 1 1 0 1 0 0 1 1 0 1 1]\n",
      "loss:  0.010005142\n",
      "[0 1 1 1 0 0 1 1 0 1 1 0 1 0 1 0 0 1 0 1 1 0 0 1 1 1 1 0 1 1 0 0 1 1 0 1 0\n",
      " 1 0 1 1 0 1 0 0 1 1 0 1 1]\n",
      "loss:  0.009999676\n",
      "Accuracy:  0.64\n",
      "Model saved in path: ./avoid_overfitting_tfmodel.ckpt\n"
     ]
    }
   ],
   "source": [
    "sess = tf.Session()\n",
    "sess.run(tf.global_variables_initializer())\n",
    "sess.run(tf.local_variables_initializer())\n",
    "i = 0\n",
    "loss = sess.run(cost, feed_dict = {x:x_train, y:y_train_encoded})\n",
    "while(loss>0.01):\n",
    "    i = i + 1\n",
    "    sess.run(optimiser, feed_dict = {x:x_train,y:y_train_encoded})\n",
    "    if(i%20==0):\n",
    "        print(sess.run(correct_pred, feed_dict = {x:x_test}))\n",
    "        loss = sess.run(cost, feed_dict = {x:x_train, y:y_train_encoded})\n",
    "        print('loss: ',loss)\n",
    "print('Accuracy: ',sess.run(count, feed_dict = {x: x_test}))\n",
    "save_path = saver.save(sess,'./avoid_overfitting_tfmodel.ckpt')\n",
    "print('Model saved in path: %s' %save_path)\n",
    "sess.close()"
   ]
  },
  {
   "cell_type": "code",
   "execution_count": null,
   "metadata": {},
   "outputs": [],
   "source": []
  }
 ],
 "metadata": {
  "kernelspec": {
   "display_name": "Python 3",
   "language": "python",
   "name": "python3"
  },
  "language_info": {
   "codemirror_mode": {
    "name": "ipython",
    "version": 3
   },
   "file_extension": ".py",
   "mimetype": "text/x-python",
   "name": "python",
   "nbconvert_exporter": "python",
   "pygments_lexer": "ipython3",
   "version": "3.7.3"
  }
 },
 "nbformat": 4,
 "nbformat_minor": 2
}
